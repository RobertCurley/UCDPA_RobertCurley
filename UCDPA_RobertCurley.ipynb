{
  "nbformat": 4,
  "nbformat_minor": 0,
  "metadata": {
    "colab": {
      "provenance": [],
      "authorship_tag": "ABX9TyOUkS43H7FanGng/fYMhrWO",
      "include_colab_link": true
    },
    "kernelspec": {
      "name": "python3",
      "display_name": "Python 3"
    },
    "language_info": {
      "name": "python"
    }
  },
  "cells": [
    {
      "cell_type": "markdown",
      "metadata": {
        "id": "view-in-github",
        "colab_type": "text"
      },
      "source": [
        "<a href=\"https://colab.research.google.com/github/RobertCurley/UCDPA_RobertCurley/blob/main/UCDPA_RobertCurley.ipynb\" target=\"_parent\"><img src=\"https://colab.research.google.com/assets/colab-badge.svg\" alt=\"Open In Colab\"/></a>"
      ]
    },
    {
      "cell_type": "markdown",
      "source": [
        "#Abstract\n",
        "\n",
        "The following project will show Python data analytics in action. Touching on the key actions of a data scientist, such as;\n",
        "* Data extraction\n",
        "* Data cleaning\n",
        "* Data manipulation\n",
        "* Data visualization\n",
        "\n",
        "The project will use the Football Manager 2023 Dataset. Which can be viewed on Kaggle ( https://www.kaggle.com/datasets/platinum22/foot-ball-manager-2023-dataset ). This was dataset was used due to my passion for gaming and soccer. This game uses real-world data which gives stats to players across the globe, in-fact in 2014 there was an article in the Guardian titled “Why clubs are using Football Manager as a real-life scouting tool” (Stuart, 2014). \n",
        "\n",
        "I wanted to use the knowledge I have learned to analysis this dataset myself to see if there is any correlation between different statistics and to find who the is the player with the highest potential ability.\n"
      ],
      "metadata": {
        "id": "gnTG0IFuCLdT"
      }
    },
    {
      "cell_type": "markdown",
      "source": [
        "#Introduction\n",
        "\n",
        "In 2014, the guardian wrote an article titled “Why clubs are using Football Manager as a real-life scouting tool” (Stuart, 2014). This led me to think about the data that is being presented in Football Manager and if I could use the data to gather insights into players. Football Manager 2023 is a computer game which allows you to manage a real-world team.\n",
        "\n",
        "With Soccer being more and more statistical in recent years with the introduction of expected goals, I wanted to use the Football Manager dataset to delve deeper into the specifics of the data. I have been playing Football Manager for the last few years and have been drawn to the real-world data that is present in the game which sets the game apart from the competition. \n",
        "\n",
        "As I have an interest in the sport of Football and gaming, I have decided to look at the “Football Manager 2023 Dataset” to gain insights around the players and positions that are in Football Manager 2023.\n"
      ],
      "metadata": {
        "id": "ha71KZBTAT0r"
      }
    },
    {
      "cell_type": "markdown",
      "source": [
        "# Data\n",
        "\n",
        "The Dataset that I used is “Football Manager 2023 Dataset” which was taken from Kaggle. I had a few different options to choose from when looking at football player data but decided to stick with the “Football Manager 2023 Dataset”, due to the number of data points that are present with it covering 8,452 players.\n",
        "\n",
        "Although the Usability score on Kaggle gave only a 6.18, I felt it the dataset had enough information present and usable that I could work with the data.\n",
        "\n",
        "The dataset consists of 8,452 players covering a number of key statistics such as Finishing, Heading, Salary, Height etc. Which when I viewed the CSV file felt I could analysis and use to come up with specific findings. \n",
        "\n",
        "* Football Manager 2023 Dataset* which can be viewed at:\n",
        "\n",
        "https://www.kaggle.com/datasets/platinum22/foot-ball-manager-2023-dataset"
      ],
      "metadata": {
        "id": "HLWi6jJlOFIJ"
      }
    },
    {
      "cell_type": "markdown",
      "source": [
        "# Importing\n",
        "\n",
        "Section covering the importing of the databases"
      ],
      "metadata": {
        "id": "FowAE_MIQFmu"
      }
    },
    {
      "cell_type": "code",
      "source": [
        "# Import NumPy Package\n",
        "import numpy as np\n",
        "\n",
        "# Import Pandas Package\n",
        "import pandas as pd"
      ],
      "metadata": {
        "id": "wiFvqREWQ_Ic"
      },
      "execution_count": 90,
      "outputs": []
    },
    {
      "cell_type": "markdown",
      "source": [
        "## Import *Football Manager 2023 Dataset*"
      ],
      "metadata": {
        "id": "3X7gJFgcQV_F"
      }
    },
    {
      "cell_type": "code",
      "source": [
        "#Initial Upload of CSV file of Football Manager 2023 from local drive\n",
        "\n",
        "#Commented to show workings only\n",
        "#from google.colab import files\n",
        "#uploaded = files.upload()"
      ],
      "metadata": {
        "id": "tB_MtMaYgYp2"
      },
      "execution_count": 91,
      "outputs": []
    },
    {
      "cell_type": "code",
      "source": [
        "# Upload CSV file of Football Manager 2023 from github repository\n",
        "\n",
        "url = 'https://raw.githubusercontent.com/RobertCurley/UCDPA_RobertCurley/main/FM%202023.csv'"
      ],
      "metadata": {
        "id": "iUzw5VgISrHA"
      },
      "execution_count": 92,
      "outputs": []
    },
    {
      "cell_type": "code",
      "source": [
        "# View FM 2023.csv file in python\n",
        "\n",
        "fm_2023_df = pd.read_csv(url) # Changed Name to FM_2023_df\n",
        "fm_2023_df"
      ],
      "metadata": {
        "colab": {
          "base_uri": "https://localhost:8080/",
          "height": 696
        },
        "id": "X9jlo6kxTrvA",
        "outputId": "066e0cdd-05f7-4fb2-ef7e-0365d1747736"
      },
      "execution_count": 93,
      "outputs": [
        {
          "output_type": "execute_result",
          "data": {
            "text/plain": [
              "                    Name  Position  Age   ca   pa     Nationality  \\\n",
              "0        Kevin De Bruyne  M/AM RLC   31  189  189         Belgium   \n",
              "1          Kylian Mbappé   AM/S RL   23  188  197          France   \n",
              "2     Robert Lewandowski         S   33  186  190          Poland   \n",
              "3         Erling Haaland         S   22  185  195  Norway,England   \n",
              "4          Mohamed Salah   AM/S RL   30  185  187           Egypt   \n",
              "...                  ...       ...  ...  ...  ...             ...   \n",
              "8447          Joe Ashton       D L   16   45  135         England   \n",
              "8448          River Ries         S   17   45  135         Germany   \n",
              "8449      Halilcan Doğan       D C   23   45  -75          Turkey   \n",
              "8450        Adijat Sefer         S   17   45  135         Germany   \n",
              "8451         Linus Urban         S   17   45  135         Germany   \n",
              "\n",
              "                            Club  Corners  Crossing  Dribbling  ...  \\\n",
              "0                Manchester City       14        19         15  ...   \n",
              "1            Paris Saint-Germain       13        13         18  ...   \n",
              "2                      Barcelona        3         8         13  ...   \n",
              "3                Manchester City        7        10         14  ...   \n",
              "4                      Liverpool       12        14         17  ...   \n",
              "...                          ...      ...       ...        ...  ...   \n",
              "8447                     Burnley        3         4          5  ...   \n",
              "8448               Karlsruher SC        2         2         11  ...   \n",
              "8449  Osmaniyespor Futbol Kulübü        1         1          1  ...   \n",
              "8450              TSG Hoffenheim        3         4         12  ...   \n",
              "8451            SV Werder Bremen        4         2         10  ...   \n",
              "\n",
              "      World reputation                           Race  RCA  Colour of skin  \\\n",
              "0                 9400              Northern_European  181               4   \n",
              "1                 9248              African_Caribbean  172              13   \n",
              "2                 9250              Northern_European  183               3   \n",
              "3                 8750              Northern_European  185               2   \n",
              "4                 8750  North_African__Middle_Eastern  181               9   \n",
              "...                ...                            ...  ...             ...   \n",
              "8447               236              Northern_European   41               3   \n",
              "8448               462              Northern_European   33             255   \n",
              "8449              1145              Northern_European   41               3   \n",
              "8450               474              Northern_European   40             255   \n",
              "8451               176              Northern_European   41             255   \n",
              "\n",
              "      Date of birth  Number of national team appearances  \\\n",
              "0         1991/6/28                                   91   \n",
              "1        1998/12/20                                   57   \n",
              "2         1988/8/21                                  132   \n",
              "3         2000/7/21                                   21   \n",
              "4         1992/6/15                                   85   \n",
              "...             ...                                  ...   \n",
              "8447      2006/6/26                                    0   \n",
              "8448       2005/4/3                                    0   \n",
              "8449      1999/2/11                                    0   \n",
              "8450      2005/1/20                                    0   \n",
              "8451     2004/11/20                                    0   \n",
              "\n",
              "      Goals scored for the national team     Salary  Rental club         UID  \n",
              "0                                     24   394372.0          NaN    18004457  \n",
              "1                                     27  1035616.0          NaN    85139014  \n",
              "2                                     76   345204.0          NaN      719601  \n",
              "3                                     20   394372.0          NaN    29179241  \n",
              "4                                     47   405971.0          NaN    98028755  \n",
              "...                                  ...        ...          ...         ...  \n",
              "8447                                   0      203.0          NaN  2000210572  \n",
              "8448                                   0      402.0          NaN  2000197059  \n",
              "8449                                   0       82.0          NaN  2000047739  \n",
              "8450                                   0      646.0          NaN  2000197383  \n",
              "8451                                   0      646.0          NaN  2000194686  \n",
              "\n",
              "[8452 rows x 98 columns]"
            ],
            "text/html": [
              "\n",
              "  <div id=\"df-1586d0b9-09d6-40d9-bc8a-54df6a2e8786\">\n",
              "    <div class=\"colab-df-container\">\n",
              "      <div>\n",
              "<style scoped>\n",
              "    .dataframe tbody tr th:only-of-type {\n",
              "        vertical-align: middle;\n",
              "    }\n",
              "\n",
              "    .dataframe tbody tr th {\n",
              "        vertical-align: top;\n",
              "    }\n",
              "\n",
              "    .dataframe thead th {\n",
              "        text-align: right;\n",
              "    }\n",
              "</style>\n",
              "<table border=\"1\" class=\"dataframe\">\n",
              "  <thead>\n",
              "    <tr style=\"text-align: right;\">\n",
              "      <th></th>\n",
              "      <th>Name</th>\n",
              "      <th>Position</th>\n",
              "      <th>Age</th>\n",
              "      <th>ca</th>\n",
              "      <th>pa</th>\n",
              "      <th>Nationality</th>\n",
              "      <th>Club</th>\n",
              "      <th>Corners</th>\n",
              "      <th>Crossing</th>\n",
              "      <th>Dribbling</th>\n",
              "      <th>...</th>\n",
              "      <th>World reputation</th>\n",
              "      <th>Race</th>\n",
              "      <th>RCA</th>\n",
              "      <th>Colour of skin</th>\n",
              "      <th>Date of birth</th>\n",
              "      <th>Number of national team appearances</th>\n",
              "      <th>Goals scored for the national team</th>\n",
              "      <th>Salary</th>\n",
              "      <th>Rental club</th>\n",
              "      <th>UID</th>\n",
              "    </tr>\n",
              "  </thead>\n",
              "  <tbody>\n",
              "    <tr>\n",
              "      <th>0</th>\n",
              "      <td>Kevin De Bruyne</td>\n",
              "      <td>M/AM RLC</td>\n",
              "      <td>31</td>\n",
              "      <td>189</td>\n",
              "      <td>189</td>\n",
              "      <td>Belgium</td>\n",
              "      <td>Manchester City</td>\n",
              "      <td>14</td>\n",
              "      <td>19</td>\n",
              "      <td>15</td>\n",
              "      <td>...</td>\n",
              "      <td>9400</td>\n",
              "      <td>Northern_European</td>\n",
              "      <td>181</td>\n",
              "      <td>4</td>\n",
              "      <td>1991/6/28</td>\n",
              "      <td>91</td>\n",
              "      <td>24</td>\n",
              "      <td>394372.0</td>\n",
              "      <td>NaN</td>\n",
              "      <td>18004457</td>\n",
              "    </tr>\n",
              "    <tr>\n",
              "      <th>1</th>\n",
              "      <td>Kylian Mbappé</td>\n",
              "      <td>AM/S RL</td>\n",
              "      <td>23</td>\n",
              "      <td>188</td>\n",
              "      <td>197</td>\n",
              "      <td>France</td>\n",
              "      <td>Paris Saint-Germain</td>\n",
              "      <td>13</td>\n",
              "      <td>13</td>\n",
              "      <td>18</td>\n",
              "      <td>...</td>\n",
              "      <td>9248</td>\n",
              "      <td>African_Caribbean</td>\n",
              "      <td>172</td>\n",
              "      <td>13</td>\n",
              "      <td>1998/12/20</td>\n",
              "      <td>57</td>\n",
              "      <td>27</td>\n",
              "      <td>1035616.0</td>\n",
              "      <td>NaN</td>\n",
              "      <td>85139014</td>\n",
              "    </tr>\n",
              "    <tr>\n",
              "      <th>2</th>\n",
              "      <td>Robert Lewandowski</td>\n",
              "      <td>S</td>\n",
              "      <td>33</td>\n",
              "      <td>186</td>\n",
              "      <td>190</td>\n",
              "      <td>Poland</td>\n",
              "      <td>Barcelona</td>\n",
              "      <td>3</td>\n",
              "      <td>8</td>\n",
              "      <td>13</td>\n",
              "      <td>...</td>\n",
              "      <td>9250</td>\n",
              "      <td>Northern_European</td>\n",
              "      <td>183</td>\n",
              "      <td>3</td>\n",
              "      <td>1988/8/21</td>\n",
              "      <td>132</td>\n",
              "      <td>76</td>\n",
              "      <td>345204.0</td>\n",
              "      <td>NaN</td>\n",
              "      <td>719601</td>\n",
              "    </tr>\n",
              "    <tr>\n",
              "      <th>3</th>\n",
              "      <td>Erling Haaland</td>\n",
              "      <td>S</td>\n",
              "      <td>22</td>\n",
              "      <td>185</td>\n",
              "      <td>195</td>\n",
              "      <td>Norway,England</td>\n",
              "      <td>Manchester City</td>\n",
              "      <td>7</td>\n",
              "      <td>10</td>\n",
              "      <td>14</td>\n",
              "      <td>...</td>\n",
              "      <td>8750</td>\n",
              "      <td>Northern_European</td>\n",
              "      <td>185</td>\n",
              "      <td>2</td>\n",
              "      <td>2000/7/21</td>\n",
              "      <td>21</td>\n",
              "      <td>20</td>\n",
              "      <td>394372.0</td>\n",
              "      <td>NaN</td>\n",
              "      <td>29179241</td>\n",
              "    </tr>\n",
              "    <tr>\n",
              "      <th>4</th>\n",
              "      <td>Mohamed Salah</td>\n",
              "      <td>AM/S RL</td>\n",
              "      <td>30</td>\n",
              "      <td>185</td>\n",
              "      <td>187</td>\n",
              "      <td>Egypt</td>\n",
              "      <td>Liverpool</td>\n",
              "      <td>12</td>\n",
              "      <td>14</td>\n",
              "      <td>17</td>\n",
              "      <td>...</td>\n",
              "      <td>8750</td>\n",
              "      <td>North_African__Middle_Eastern</td>\n",
              "      <td>181</td>\n",
              "      <td>9</td>\n",
              "      <td>1992/6/15</td>\n",
              "      <td>85</td>\n",
              "      <td>47</td>\n",
              "      <td>405971.0</td>\n",
              "      <td>NaN</td>\n",
              "      <td>98028755</td>\n",
              "    </tr>\n",
              "    <tr>\n",
              "      <th>...</th>\n",
              "      <td>...</td>\n",
              "      <td>...</td>\n",
              "      <td>...</td>\n",
              "      <td>...</td>\n",
              "      <td>...</td>\n",
              "      <td>...</td>\n",
              "      <td>...</td>\n",
              "      <td>...</td>\n",
              "      <td>...</td>\n",
              "      <td>...</td>\n",
              "      <td>...</td>\n",
              "      <td>...</td>\n",
              "      <td>...</td>\n",
              "      <td>...</td>\n",
              "      <td>...</td>\n",
              "      <td>...</td>\n",
              "      <td>...</td>\n",
              "      <td>...</td>\n",
              "      <td>...</td>\n",
              "      <td>...</td>\n",
              "      <td>...</td>\n",
              "    </tr>\n",
              "    <tr>\n",
              "      <th>8447</th>\n",
              "      <td>Joe Ashton</td>\n",
              "      <td>D L</td>\n",
              "      <td>16</td>\n",
              "      <td>45</td>\n",
              "      <td>135</td>\n",
              "      <td>England</td>\n",
              "      <td>Burnley</td>\n",
              "      <td>3</td>\n",
              "      <td>4</td>\n",
              "      <td>5</td>\n",
              "      <td>...</td>\n",
              "      <td>236</td>\n",
              "      <td>Northern_European</td>\n",
              "      <td>41</td>\n",
              "      <td>3</td>\n",
              "      <td>2006/6/26</td>\n",
              "      <td>0</td>\n",
              "      <td>0</td>\n",
              "      <td>203.0</td>\n",
              "      <td>NaN</td>\n",
              "      <td>2000210572</td>\n",
              "    </tr>\n",
              "    <tr>\n",
              "      <th>8448</th>\n",
              "      <td>River Ries</td>\n",
              "      <td>S</td>\n",
              "      <td>17</td>\n",
              "      <td>45</td>\n",
              "      <td>135</td>\n",
              "      <td>Germany</td>\n",
              "      <td>Karlsruher SC</td>\n",
              "      <td>2</td>\n",
              "      <td>2</td>\n",
              "      <td>11</td>\n",
              "      <td>...</td>\n",
              "      <td>462</td>\n",
              "      <td>Northern_European</td>\n",
              "      <td>33</td>\n",
              "      <td>255</td>\n",
              "      <td>2005/4/3</td>\n",
              "      <td>0</td>\n",
              "      <td>0</td>\n",
              "      <td>402.0</td>\n",
              "      <td>NaN</td>\n",
              "      <td>2000197059</td>\n",
              "    </tr>\n",
              "    <tr>\n",
              "      <th>8449</th>\n",
              "      <td>Halilcan Doğan</td>\n",
              "      <td>D C</td>\n",
              "      <td>23</td>\n",
              "      <td>45</td>\n",
              "      <td>-75</td>\n",
              "      <td>Turkey</td>\n",
              "      <td>Osmaniyespor Futbol Kulübü</td>\n",
              "      <td>1</td>\n",
              "      <td>1</td>\n",
              "      <td>1</td>\n",
              "      <td>...</td>\n",
              "      <td>1145</td>\n",
              "      <td>Northern_European</td>\n",
              "      <td>41</td>\n",
              "      <td>3</td>\n",
              "      <td>1999/2/11</td>\n",
              "      <td>0</td>\n",
              "      <td>0</td>\n",
              "      <td>82.0</td>\n",
              "      <td>NaN</td>\n",
              "      <td>2000047739</td>\n",
              "    </tr>\n",
              "    <tr>\n",
              "      <th>8450</th>\n",
              "      <td>Adijat Sefer</td>\n",
              "      <td>S</td>\n",
              "      <td>17</td>\n",
              "      <td>45</td>\n",
              "      <td>135</td>\n",
              "      <td>Germany</td>\n",
              "      <td>TSG Hoffenheim</td>\n",
              "      <td>3</td>\n",
              "      <td>4</td>\n",
              "      <td>12</td>\n",
              "      <td>...</td>\n",
              "      <td>474</td>\n",
              "      <td>Northern_European</td>\n",
              "      <td>40</td>\n",
              "      <td>255</td>\n",
              "      <td>2005/1/20</td>\n",
              "      <td>0</td>\n",
              "      <td>0</td>\n",
              "      <td>646.0</td>\n",
              "      <td>NaN</td>\n",
              "      <td>2000197383</td>\n",
              "    </tr>\n",
              "    <tr>\n",
              "      <th>8451</th>\n",
              "      <td>Linus Urban</td>\n",
              "      <td>S</td>\n",
              "      <td>17</td>\n",
              "      <td>45</td>\n",
              "      <td>135</td>\n",
              "      <td>Germany</td>\n",
              "      <td>SV Werder Bremen</td>\n",
              "      <td>4</td>\n",
              "      <td>2</td>\n",
              "      <td>10</td>\n",
              "      <td>...</td>\n",
              "      <td>176</td>\n",
              "      <td>Northern_European</td>\n",
              "      <td>41</td>\n",
              "      <td>255</td>\n",
              "      <td>2004/11/20</td>\n",
              "      <td>0</td>\n",
              "      <td>0</td>\n",
              "      <td>646.0</td>\n",
              "      <td>NaN</td>\n",
              "      <td>2000194686</td>\n",
              "    </tr>\n",
              "  </tbody>\n",
              "</table>\n",
              "<p>8452 rows × 98 columns</p>\n",
              "</div>\n",
              "      <button class=\"colab-df-convert\" onclick=\"convertToInteractive('df-1586d0b9-09d6-40d9-bc8a-54df6a2e8786')\"\n",
              "              title=\"Convert this dataframe to an interactive table.\"\n",
              "              style=\"display:none;\">\n",
              "        \n",
              "  <svg xmlns=\"http://www.w3.org/2000/svg\" height=\"24px\"viewBox=\"0 0 24 24\"\n",
              "       width=\"24px\">\n",
              "    <path d=\"M0 0h24v24H0V0z\" fill=\"none\"/>\n",
              "    <path d=\"M18.56 5.44l.94 2.06.94-2.06 2.06-.94-2.06-.94-.94-2.06-.94 2.06-2.06.94zm-11 1L8.5 8.5l.94-2.06 2.06-.94-2.06-.94L8.5 2.5l-.94 2.06-2.06.94zm10 10l.94 2.06.94-2.06 2.06-.94-2.06-.94-.94-2.06-.94 2.06-2.06.94z\"/><path d=\"M17.41 7.96l-1.37-1.37c-.4-.4-.92-.59-1.43-.59-.52 0-1.04.2-1.43.59L10.3 9.45l-7.72 7.72c-.78.78-.78 2.05 0 2.83L4 21.41c.39.39.9.59 1.41.59.51 0 1.02-.2 1.41-.59l7.78-7.78 2.81-2.81c.8-.78.8-2.07 0-2.86zM5.41 20L4 18.59l7.72-7.72 1.47 1.35L5.41 20z\"/>\n",
              "  </svg>\n",
              "      </button>\n",
              "      \n",
              "  <style>\n",
              "    .colab-df-container {\n",
              "      display:flex;\n",
              "      flex-wrap:wrap;\n",
              "      gap: 12px;\n",
              "    }\n",
              "\n",
              "    .colab-df-convert {\n",
              "      background-color: #E8F0FE;\n",
              "      border: none;\n",
              "      border-radius: 50%;\n",
              "      cursor: pointer;\n",
              "      display: none;\n",
              "      fill: #1967D2;\n",
              "      height: 32px;\n",
              "      padding: 0 0 0 0;\n",
              "      width: 32px;\n",
              "    }\n",
              "\n",
              "    .colab-df-convert:hover {\n",
              "      background-color: #E2EBFA;\n",
              "      box-shadow: 0px 1px 2px rgba(60, 64, 67, 0.3), 0px 1px 3px 1px rgba(60, 64, 67, 0.15);\n",
              "      fill: #174EA6;\n",
              "    }\n",
              "\n",
              "    [theme=dark] .colab-df-convert {\n",
              "      background-color: #3B4455;\n",
              "      fill: #D2E3FC;\n",
              "    }\n",
              "\n",
              "    [theme=dark] .colab-df-convert:hover {\n",
              "      background-color: #434B5C;\n",
              "      box-shadow: 0px 1px 3px 1px rgba(0, 0, 0, 0.15);\n",
              "      filter: drop-shadow(0px 1px 2px rgba(0, 0, 0, 0.3));\n",
              "      fill: #FFFFFF;\n",
              "    }\n",
              "  </style>\n",
              "\n",
              "      <script>\n",
              "        const buttonEl =\n",
              "          document.querySelector('#df-1586d0b9-09d6-40d9-bc8a-54df6a2e8786 button.colab-df-convert');\n",
              "        buttonEl.style.display =\n",
              "          google.colab.kernel.accessAllowed ? 'block' : 'none';\n",
              "\n",
              "        async function convertToInteractive(key) {\n",
              "          const element = document.querySelector('#df-1586d0b9-09d6-40d9-bc8a-54df6a2e8786');\n",
              "          const dataTable =\n",
              "            await google.colab.kernel.invokeFunction('convertToInteractive',\n",
              "                                                     [key], {});\n",
              "          if (!dataTable) return;\n",
              "\n",
              "          const docLinkHtml = 'Like what you see? Visit the ' +\n",
              "            '<a target=\"_blank\" href=https://colab.research.google.com/notebooks/data_table.ipynb>data table notebook</a>'\n",
              "            + ' to learn more about interactive tables.';\n",
              "          element.innerHTML = '';\n",
              "          dataTable['output_type'] = 'display_data';\n",
              "          await google.colab.output.renderOutput(dataTable, element);\n",
              "          const docLink = document.createElement('div');\n",
              "          docLink.innerHTML = docLinkHtml;\n",
              "          element.appendChild(docLink);\n",
              "        }\n",
              "      </script>\n",
              "    </div>\n",
              "  </div>\n",
              "  "
            ]
          },
          "metadata": {},
          "execution_count": 93
        }
      ]
    },
    {
      "cell_type": "markdown",
      "source": [
        "#Preparation\n",
        "\n",
        "Section covering the preperation of the data.\n",
        "\n",
        "*   *Create panda DataFrame*\n",
        "*   *Sorting, Indexing, Grouping*\n",
        "*   *Drop Duplicates, replace missing values*\n",
        "*   *Merge Data Frames*"
      ],
      "metadata": {
        "id": "RqTtO4wdAnNC"
      }
    },
    {
      "cell_type": "markdown",
      "source": [
        "##Information on DataFrame\n",
        "\n",
        "* View of Dataframe\n",
        "* Shape of Dataframe\n",
        "* Info of Dataframe\n",
        "* Columns present in Dataframe"
      ],
      "metadata": {
        "id": "qqqD9c_20yjv"
      }
    },
    {
      "cell_type": "code",
      "source": [
        "#Shows the type of data that fm_2023_df is\n",
        "type(fm_2023_df)"
      ],
      "metadata": {
        "colab": {
          "base_uri": "https://localhost:8080/"
        },
        "id": "or1b4hNZjp30",
        "outputId": "2eb1c3e6-aff5-4327-ee0e-d2e5204b0a98"
      },
      "execution_count": 94,
      "outputs": [
        {
          "output_type": "execute_result",
          "data": {
            "text/plain": [
              "pandas.core.frame.DataFrame"
            ]
          },
          "metadata": {},
          "execution_count": 94
        }
      ]
    },
    {
      "cell_type": "code",
      "source": [
        "# Prints out full DataFrame\n",
        "print(fm_2023_df)"
      ],
      "metadata": {
        "colab": {
          "base_uri": "https://localhost:8080/"
        },
        "id": "ZDJtUJRtAxFk",
        "outputId": "448aecd1-06f3-4d8d-8882-f29e2bdb0c32"
      },
      "execution_count": 95,
      "outputs": [
        {
          "output_type": "stream",
          "name": "stdout",
          "text": [
            "                    Name  Position  Age   ca   pa     Nationality  \\\n",
            "0        Kevin De Bruyne  M/AM RLC   31  189  189         Belgium   \n",
            "1          Kylian Mbappé   AM/S RL   23  188  197          France   \n",
            "2     Robert Lewandowski         S   33  186  190          Poland   \n",
            "3         Erling Haaland         S   22  185  195  Norway,England   \n",
            "4          Mohamed Salah   AM/S RL   30  185  187           Egypt   \n",
            "...                  ...       ...  ...  ...  ...             ...   \n",
            "8447          Joe Ashton       D L   16   45  135         England   \n",
            "8448          River Ries         S   17   45  135         Germany   \n",
            "8449      Halilcan Doğan       D C   23   45  -75          Turkey   \n",
            "8450        Adijat Sefer         S   17   45  135         Germany   \n",
            "8451         Linus Urban         S   17   45  135         Germany   \n",
            "\n",
            "                            Club  Corners  Crossing  Dribbling  ...  \\\n",
            "0                Manchester City       14        19         15  ...   \n",
            "1            Paris Saint-Germain       13        13         18  ...   \n",
            "2                      Barcelona        3         8         13  ...   \n",
            "3                Manchester City        7        10         14  ...   \n",
            "4                      Liverpool       12        14         17  ...   \n",
            "...                          ...      ...       ...        ...  ...   \n",
            "8447                     Burnley        3         4          5  ...   \n",
            "8448               Karlsruher SC        2         2         11  ...   \n",
            "8449  Osmaniyespor Futbol Kulübü        1         1          1  ...   \n",
            "8450              TSG Hoffenheim        3         4         12  ...   \n",
            "8451            SV Werder Bremen        4         2         10  ...   \n",
            "\n",
            "      World reputation                           Race  RCA  Colour of skin  \\\n",
            "0                 9400              Northern_European  181               4   \n",
            "1                 9248              African_Caribbean  172              13   \n",
            "2                 9250              Northern_European  183               3   \n",
            "3                 8750              Northern_European  185               2   \n",
            "4                 8750  North_African__Middle_Eastern  181               9   \n",
            "...                ...                            ...  ...             ...   \n",
            "8447               236              Northern_European   41               3   \n",
            "8448               462              Northern_European   33             255   \n",
            "8449              1145              Northern_European   41               3   \n",
            "8450               474              Northern_European   40             255   \n",
            "8451               176              Northern_European   41             255   \n",
            "\n",
            "      Date of birth  Number of national team appearances  \\\n",
            "0         1991/6/28                                   91   \n",
            "1        1998/12/20                                   57   \n",
            "2         1988/8/21                                  132   \n",
            "3         2000/7/21                                   21   \n",
            "4         1992/6/15                                   85   \n",
            "...             ...                                  ...   \n",
            "8447      2006/6/26                                    0   \n",
            "8448       2005/4/3                                    0   \n",
            "8449      1999/2/11                                    0   \n",
            "8450      2005/1/20                                    0   \n",
            "8451     2004/11/20                                    0   \n",
            "\n",
            "      Goals scored for the national team     Salary  Rental club         UID  \n",
            "0                                     24   394372.0          NaN    18004457  \n",
            "1                                     27  1035616.0          NaN    85139014  \n",
            "2                                     76   345204.0          NaN      719601  \n",
            "3                                     20   394372.0          NaN    29179241  \n",
            "4                                     47   405971.0          NaN    98028755  \n",
            "...                                  ...        ...          ...         ...  \n",
            "8447                                   0      203.0          NaN  2000210572  \n",
            "8448                                   0      402.0          NaN  2000197059  \n",
            "8449                                   0       82.0          NaN  2000047739  \n",
            "8450                                   0      646.0          NaN  2000197383  \n",
            "8451                                   0      646.0          NaN  2000194686  \n",
            "\n",
            "[8452 rows x 98 columns]\n"
          ]
        }
      ]
    },
    {
      "cell_type": "code",
      "source": [
        "# Returns the shape of the dataframe\n",
        "fm_2023_df.shape "
      ],
      "metadata": {
        "colab": {
          "base_uri": "https://localhost:8080/"
        },
        "id": "iFzmePND5nD4",
        "outputId": "dd9b8d08-0b1c-4740-992b-c78d0c6bb8ce"
      },
      "execution_count": 96,
      "outputs": [
        {
          "output_type": "execute_result",
          "data": {
            "text/plain": [
              "(8452, 98)"
            ]
          },
          "metadata": {},
          "execution_count": 96
        }
      ]
    },
    {
      "cell_type": "code",
      "source": [
        "# Returns the information present in the dataframe\n",
        "fm_2023_df.info()"
      ],
      "metadata": {
        "id": "wHHdSymM1lVx",
        "colab": {
          "base_uri": "https://localhost:8080/"
        },
        "outputId": "bec960c4-f77b-41c4-8461-2e266b331491"
      },
      "execution_count": 97,
      "outputs": [
        {
          "output_type": "stream",
          "name": "stdout",
          "text": [
            "<class 'pandas.core.frame.DataFrame'>\n",
            "RangeIndex: 8452 entries, 0 to 8451\n",
            "Data columns (total 98 columns):\n",
            " #   Column                               Non-Null Count  Dtype  \n",
            "---  ------                               --------------  -----  \n",
            " 0   Name                                 8452 non-null   object \n",
            " 1   Position                             8452 non-null   object \n",
            " 2   Age                                  8452 non-null   int64  \n",
            " 3   ca                                   8452 non-null   int64  \n",
            " 4   pa                                   8452 non-null   int64  \n",
            " 5   Nationality                          8452 non-null   object \n",
            " 6   Club                                 8345 non-null   object \n",
            " 7   Corners                              8452 non-null   int64  \n",
            " 8   Crossing                             8452 non-null   int64  \n",
            " 9   Dribbling                            8452 non-null   int64  \n",
            " 10  Finishing                            8452 non-null   int64  \n",
            " 11  First Touch                          8452 non-null   int64  \n",
            " 12  Free Kick Taking                     8452 non-null   int64  \n",
            " 13  Heading                              8452 non-null   int64  \n",
            " 14  Long Shots                           8452 non-null   int64  \n",
            " 15  Long Throws                          8452 non-null   int64  \n",
            " 16  Marking                              8452 non-null   int64  \n",
            " 17  Passing                              8452 non-null   int64  \n",
            " 18  Penalty Taking                       8452 non-null   int64  \n",
            " 19  Tackling                             8452 non-null   int64  \n",
            " 20  Technique                            8452 non-null   int64  \n",
            " 21  Aggressiion                          8452 non-null   int64  \n",
            " 22  Anticipation                         8452 non-null   int64  \n",
            " 23  Bravery                              8452 non-null   int64  \n",
            " 24  Composure                            8452 non-null   int64  \n",
            " 25  Concentration                        8452 non-null   int64  \n",
            " 26  Vision                               8452 non-null   int64  \n",
            " 27  Decision                             8452 non-null   int64  \n",
            " 28  Determination                        8452 non-null   int64  \n",
            " 29  Flair                                8452 non-null   int64  \n",
            " 30  Leadership                           8452 non-null   int64  \n",
            " 31  Off The Ball                         8452 non-null   int64  \n",
            " 32  Position.1                           8452 non-null   int64  \n",
            " 33  Teamwork                             8452 non-null   int64  \n",
            " 34  Work Rate                            8452 non-null   int64  \n",
            " 35  Acceleration                         8452 non-null   int64  \n",
            " 36  Agility                              8452 non-null   int64  \n",
            " 37  Balance                              8452 non-null   int64  \n",
            " 38  Jumping Reach                        8452 non-null   int64  \n",
            " 39  Natural Fitness                      8452 non-null   int64  \n",
            " 40  Pace                                 8452 non-null   int64  \n",
            " 41  Stamina                              8452 non-null   int64  \n",
            " 42  Strength                             8452 non-null   int64  \n",
            " 43  Stability                            8452 non-null   int64  \n",
            " 44  Foul                                 8452 non-null   int64  \n",
            " 45  Contest performance                  8452 non-null   int64  \n",
            " 46  Injury                               8452 non-null   int64  \n",
            " 47  diversity                            8452 non-null   int64  \n",
            " 48  Aerial Reach                         8452 non-null   int64  \n",
            " 49  Command Of Area                      8452 non-null   int64  \n",
            " 50  Communication                        8452 non-null   int64  \n",
            " 51  Eccentricity                         8452 non-null   int64  \n",
            " 52  Handling                             8452 non-null   int64  \n",
            " 53  Kicking                              8452 non-null   int64  \n",
            " 54  One On Ones                          8452 non-null   int64  \n",
            " 55  Reflexes                             8452 non-null   int64  \n",
            " 56  Rushing Out                          8452 non-null   int64  \n",
            " 57  Punching                             8452 non-null   int64  \n",
            " 58  Throwing                             8452 non-null   int64  \n",
            " 59  Adaptation                           8452 non-null   int64  \n",
            " 60  Ambition                             8452 non-null   int64  \n",
            " 61  Argue                                8452 non-null   int64  \n",
            " 62  Loyal                                8452 non-null   int64  \n",
            " 63  Resistant to stress                  8452 non-null   int64  \n",
            " 64  Professional                         8452 non-null   int64  \n",
            " 65  Sportsmanship                        8452 non-null   int64  \n",
            " 66  Emotional control                    8452 non-null   int64  \n",
            " 67  GK                                   8452 non-null   int64  \n",
            " 68  DL                                   8452 non-null   int64  \n",
            " 69  DC                                   8452 non-null   int64  \n",
            " 70  DR                                   8452 non-null   int64  \n",
            " 71  WBL                                  8452 non-null   int64  \n",
            " 72  WBR                                  8452 non-null   int64  \n",
            " 73  DM                                   8452 non-null   int64  \n",
            " 74  ML                                   8452 non-null   int64  \n",
            " 75  MC                                   8452 non-null   int64  \n",
            " 76  MR                                   8452 non-null   int64  \n",
            " 77  AML                                  8452 non-null   int64  \n",
            " 78  AMC                                  8452 non-null   int64  \n",
            " 79  AMR                                  8452 non-null   int64  \n",
            " 80  ST                                   8452 non-null   int64  \n",
            " 81  Height                               8452 non-null   int64  \n",
            " 82  Weight                               8452 non-null   int64  \n",
            " 83  Left Foot                            8452 non-null   int64  \n",
            " 84  Right Foot                           8452 non-null   int64  \n",
            " 85  Values                               8452 non-null   int64  \n",
            " 86  Current reputation                   8452 non-null   int64  \n",
            " 87  Domestic reputation                  8452 non-null   int64  \n",
            " 88  World reputation                     8452 non-null   int64  \n",
            " 89  Race                                 8452 non-null   object \n",
            " 90  RCA                                  8452 non-null   int64  \n",
            " 91  Colour of skin                       8452 non-null   int64  \n",
            " 92  Date of birth                        8452 non-null   object \n",
            " 93  Number of national team appearances  8452 non-null   int64  \n",
            " 94  Goals scored for the national team   8452 non-null   int64  \n",
            " 95  Salary                               8345 non-null   float64\n",
            " 96  Rental club                          995 non-null    object \n",
            " 97  UID                                  8452 non-null   int64  \n",
            "dtypes: float64(1), int64(90), object(7)\n",
            "memory usage: 6.3+ MB\n"
          ]
        }
      ]
    },
    {
      "cell_type": "code",
      "source": [
        "#Returns the number of Null values in each column in the DataFrame\n",
        "fm_2023_df.isnull().sum()"
      ],
      "metadata": {
        "colab": {
          "base_uri": "https://localhost:8080/"
        },
        "id": "CIB1wsxqmuxx",
        "outputId": "19324e77-0895-40e9-ae59-8d9e778249d8"
      },
      "execution_count": 98,
      "outputs": [
        {
          "output_type": "execute_result",
          "data": {
            "text/plain": [
              "Name                                      0\n",
              "Position                                  0\n",
              "Age                                       0\n",
              "ca                                        0\n",
              "pa                                        0\n",
              "                                       ... \n",
              "Number of national team appearances       0\n",
              "Goals scored for the national team        0\n",
              "Salary                                  107\n",
              "Rental club                            7457\n",
              "UID                                       0\n",
              "Length: 98, dtype: int64"
            ]
          },
          "metadata": {},
          "execution_count": 98
        }
      ]
    },
    {
      "cell_type": "code",
      "source": [
        "# Returns List of Title of all Columns in DataFrame\n",
        "fm_2023_df.columns"
      ],
      "metadata": {
        "colab": {
          "base_uri": "https://localhost:8080/"
        },
        "id": "1exf99F0_D2v",
        "outputId": "c9f08988-ff15-4ada-b99c-2484884eb33a"
      },
      "execution_count": 99,
      "outputs": [
        {
          "output_type": "execute_result",
          "data": {
            "text/plain": [
              "Index(['Name', 'Position', 'Age', 'ca', 'pa', 'Nationality', 'Club', 'Corners',\n",
              "       'Crossing', 'Dribbling', 'Finishing', 'First Touch', 'Free Kick Taking',\n",
              "       'Heading', 'Long Shots', 'Long Throws', 'Marking', 'Passing',\n",
              "       'Penalty Taking', 'Tackling', 'Technique', 'Aggressiion',\n",
              "       'Anticipation', 'Bravery', 'Composure', 'Concentration', 'Vision',\n",
              "       'Decision', 'Determination', 'Flair', 'Leadership', 'Off The Ball',\n",
              "       'Position.1', 'Teamwork', 'Work Rate', 'Acceleration', 'Agility',\n",
              "       'Balance', 'Jumping Reach', 'Natural Fitness', 'Pace', 'Stamina',\n",
              "       'Strength', 'Stability', 'Foul', 'Contest performance', 'Injury',\n",
              "       'diversity', 'Aerial Reach', 'Command Of Area', 'Communication',\n",
              "       'Eccentricity', 'Handling', 'Kicking', 'One On Ones', 'Reflexes',\n",
              "       'Rushing Out', 'Punching', 'Throwing', 'Adaptation', 'Ambition',\n",
              "       'Argue', 'Loyal', 'Resistant to stress', 'Professional',\n",
              "       'Sportsmanship', 'Emotional control', 'GK', 'DL', 'DC', 'DR', 'WBL',\n",
              "       'WBR', 'DM', 'ML', 'MC', 'MR', 'AML', 'AMC', 'AMR', 'ST', 'Height',\n",
              "       'Weight', 'Left Foot', 'Right Foot', 'Values', 'Current reputation',\n",
              "       'Domestic reputation', 'World reputation', 'Race', 'RCA',\n",
              "       'Colour of skin', 'Date of birth',\n",
              "       'Number of national team appearances',\n",
              "       'Goals scored for the national team', 'Salary', 'Rental club', 'UID'],\n",
              "      dtype='object')"
            ]
          },
          "metadata": {},
          "execution_count": 99
        }
      ]
    },
    {
      "cell_type": "markdown",
      "source": [
        "##Creating DataFrames\n",
        "\n",
        "Created Pandas DataFrames to view the dataset in an easier to read way.\n",
        "* KeyDetails_fm_2023_df\n",
        "* scoring_fm_2023_df"
      ],
      "metadata": {
        "id": "zAqasKYixs9a"
      }
    },
    {
      "cell_type": "code",
      "source": [
        "# Slice Data in DataFrame (fm_2023_df) and name KeyDetails_fm_2023_df\n",
        "# Key Details : Name, Position, Nationality, Club, Age, Height, Weight, salary ca & pa\n",
        "\n",
        "KeyDetails_fm_2023_df = fm_2023_df.loc[:,['Name', 'Position', 'Nationality', 'Club', \n",
        "                                          'Age', 'Height', 'Weight', 'Salary', 'ca', 'pa']].set_index('Name')\n",
        "\n",
        "print(KeyDetails_fm_2023_df)"
      ],
      "metadata": {
        "id": "6qXfhHkw_yVQ",
        "colab": {
          "base_uri": "https://localhost:8080/"
        },
        "outputId": "1bab525f-098f-46e8-f28e-f726a2e50c83"
      },
      "execution_count": 100,
      "outputs": [
        {
          "output_type": "stream",
          "name": "stdout",
          "text": [
            "                    Position     Nationality                        Club  Age  \\\n",
            "Name                                                                            \n",
            "Kevin De Bruyne     M/AM RLC         Belgium             Manchester City   31   \n",
            "Kylian Mbappé        AM/S RL          France         Paris Saint-Germain   23   \n",
            "Robert Lewandowski         S          Poland                   Barcelona   33   \n",
            "Erling Haaland             S  Norway,England             Manchester City   22   \n",
            "Mohamed Salah        AM/S RL           Egypt                   Liverpool   30   \n",
            "...                      ...             ...                         ...  ...   \n",
            "Joe Ashton               D L         England                     Burnley   16   \n",
            "River Ries                 S         Germany               Karlsruher SC   17   \n",
            "Halilcan Doğan           D C          Turkey  Osmaniyespor Futbol Kulübü   23   \n",
            "Adijat Sefer               S         Germany              TSG Hoffenheim   17   \n",
            "Linus Urban                S         Germany            SV Werder Bremen   17   \n",
            "\n",
            "                    Height  Weight     Salary   ca   pa  \n",
            "Name                                                     \n",
            "Kevin De Bruyne        181      68   394372.0  189  189  \n",
            "Kylian Mbappé          178      73  1035616.0  188  197  \n",
            "Robert Lewandowski     185      81   345204.0  186  190  \n",
            "Erling Haaland         195      88   394372.0  185  195  \n",
            "Mohamed Salah          175      72   405971.0  185  187  \n",
            "...                    ...     ...        ...  ...  ...  \n",
            "Joe Ashton             181       0      203.0   45  135  \n",
            "River Ries             184       0      402.0   45  135  \n",
            "Halilcan Doğan         190       0       82.0   45  -75  \n",
            "Adijat Sefer           184       0      646.0   45  135  \n",
            "Linus Urban            174       0      646.0   45  135  \n",
            "\n",
            "[8452 rows x 9 columns]\n"
          ]
        }
      ]
    },
    {
      "cell_type": "code",
      "source": [
        "# Slice Data in DataFrame (fm_2023_df) based on key stats for scoring and name it scoring_fm_2023_df\n",
        "# Key Stats : Name, Dribbling, Finishing, First Touch, Free Kick Taking, Heading, Long Shots, Penalty Taking\n",
        "\n",
        "scoring_fm_2023_df = fm_2023_df.loc[:, ['Name', 'Dribbling', 'Finishing', 'First Touch', 'Free Kick Taking', 'Heading',\n",
        "                                        'Long Shots', 'Penalty Taking']].set_index('Name')\n",
        "print(scoring_fm_2023_df)"
      ],
      "metadata": {
        "colab": {
          "base_uri": "https://localhost:8080/"
        },
        "id": "2CpE2sAZpoNo",
        "outputId": "484145f2-2d1e-46f2-fba7-bf69580d86de"
      },
      "execution_count": 101,
      "outputs": [
        {
          "output_type": "stream",
          "name": "stdout",
          "text": [
            "                    Dribbling  Finishing  First Touch  Free Kick Taking  \\\n",
            "Name                                                                      \n",
            "Kevin De Bruyne            15         16           16                17   \n",
            "Kylian Mbappé              18         17           18                12   \n",
            "Robert Lewandowski         13         19           18                15   \n",
            "Erling Haaland             14         18           16                13   \n",
            "Mohamed Salah              17         17           17                12   \n",
            "...                       ...        ...          ...               ...   \n",
            "Joe Ashton                  5          4            4                 1   \n",
            "River Ries                 11         11           11                 2   \n",
            "Halilcan Doğan              1          2            4                 1   \n",
            "Adijat Sefer               12          7            8                 3   \n",
            "Linus Urban                10         13            8                 4   \n",
            "\n",
            "                    Heading  Long Shots  Penalty Taking  \n",
            "Name                                                     \n",
            "Kevin De Bruyne           6          17              16  \n",
            "Kylian Mbappé             7          13              18  \n",
            "Robert Lewandowski       17          12              20  \n",
            "Erling Haaland           15          13              17  \n",
            "Mohamed Salah            10          13              17  \n",
            "...                     ...         ...             ...  \n",
            "Joe Ashton                6           1               1  \n",
            "River Ries                6           1               6  \n",
            "Halilcan Doğan           12           3               1  \n",
            "Adijat Sefer             12           4               2  \n",
            "Linus Urban              13           5               9  \n",
            "\n",
            "[8452 rows x 7 columns]\n"
          ]
        }
      ]
    },
    {
      "cell_type": "markdown",
      "source": [
        "##Merge DataFrames\n",
        "\n",
        "Merge the 2 DataFrames Created\n",
        "* Key_Details_fm_2023_df\n",
        "* scoring_fm_2023_df"
      ],
      "metadata": {
        "id": "AZBzpVeA2o_k"
      }
    },
    {
      "cell_type": "code",
      "source": [
        "\n",
        "Summary_fm_2023_df = KeyDetails_fm_2023_df.merge(scoring_fm_2023_df, on = 'Name')\n",
        "print(Summary_fm_2023_df)"
      ],
      "metadata": {
        "colab": {
          "base_uri": "https://localhost:8080/"
        },
        "id": "CHX4gS7s1ef8",
        "outputId": "e9aa4091-651a-4140-cc0b-9abd4b9e4f68"
      },
      "execution_count": 102,
      "outputs": [
        {
          "output_type": "stream",
          "name": "stdout",
          "text": [
            "                    Position     Nationality                        Club  Age  \\\n",
            "Name                                                                            \n",
            "Kevin De Bruyne     M/AM RLC         Belgium             Manchester City   31   \n",
            "Kylian Mbappé        AM/S RL          France         Paris Saint-Germain   23   \n",
            "Robert Lewandowski         S          Poland                   Barcelona   33   \n",
            "Erling Haaland             S  Norway,England             Manchester City   22   \n",
            "Mohamed Salah        AM/S RL           Egypt                   Liverpool   30   \n",
            "...                      ...             ...                         ...  ...   \n",
            "Joe Ashton               D L         England                     Burnley   16   \n",
            "River Ries                 S         Germany               Karlsruher SC   17   \n",
            "Halilcan Doğan           D C          Turkey  Osmaniyespor Futbol Kulübü   23   \n",
            "Adijat Sefer               S         Germany              TSG Hoffenheim   17   \n",
            "Linus Urban                S         Germany            SV Werder Bremen   17   \n",
            "\n",
            "                    Height  Weight     Salary   ca   pa  Dribbling  Finishing  \\\n",
            "Name                                                                            \n",
            "Kevin De Bruyne        181      68   394372.0  189  189         15         16   \n",
            "Kylian Mbappé          178      73  1035616.0  188  197         18         17   \n",
            "Robert Lewandowski     185      81   345204.0  186  190         13         19   \n",
            "Erling Haaland         195      88   394372.0  185  195         14         18   \n",
            "Mohamed Salah          175      72   405971.0  185  187         17         17   \n",
            "...                    ...     ...        ...  ...  ...        ...        ...   \n",
            "Joe Ashton             181       0      203.0   45  135          5          4   \n",
            "River Ries             184       0      402.0   45  135         11         11   \n",
            "Halilcan Doğan         190       0       82.0   45  -75          1          2   \n",
            "Adijat Sefer           184       0      646.0   45  135         12          7   \n",
            "Linus Urban            174       0      646.0   45  135         10         13   \n",
            "\n",
            "                    First Touch  Free Kick Taking  Heading  Long Shots  \\\n",
            "Name                                                                     \n",
            "Kevin De Bruyne              16                17        6          17   \n",
            "Kylian Mbappé                18                12        7          13   \n",
            "Robert Lewandowski           18                15       17          12   \n",
            "Erling Haaland               16                13       15          13   \n",
            "Mohamed Salah                17                12       10          13   \n",
            "...                         ...               ...      ...         ...   \n",
            "Joe Ashton                    4                 1        6           1   \n",
            "River Ries                   11                 2        6           1   \n",
            "Halilcan Doğan                4                 1       12           3   \n",
            "Adijat Sefer                  8                 3       12           4   \n",
            "Linus Urban                   8                 4       13           5   \n",
            "\n",
            "                    Penalty Taking  \n",
            "Name                                \n",
            "Kevin De Bruyne                 16  \n",
            "Kylian Mbappé                   18  \n",
            "Robert Lewandowski              20  \n",
            "Erling Haaland                  17  \n",
            "Mohamed Salah                   17  \n",
            "...                            ...  \n",
            "Joe Ashton                       1  \n",
            "River Ries                       6  \n",
            "Halilcan Doğan                   1  \n",
            "Adijat Sefer                     2  \n",
            "Linus Urban                      9  \n",
            "\n",
            "[8452 rows x 16 columns]\n"
          ]
        }
      ]
    },
    {
      "cell_type": "code",
      "source": [
        "# Group Summary_fm_2023_df by Age\n",
        "\n",
        "Age_df = Summary_fm_2023_df.groupby(by=\"Age\").mean()\n",
        "Age_df.sort_values(by=\"Age\", ascending=True).iloc[:,2:3]"
      ],
      "metadata": {
        "colab": {
          "base_uri": "https://localhost:8080/",
          "height": 990
        },
        "id": "lYMVxsH7QeUa",
        "outputId": "36ce8cec-5bfa-48c0-8df5-5b20f8f15dbb"
      },
      "execution_count": 103,
      "outputs": [
        {
          "output_type": "execute_result",
          "data": {
            "text/plain": [
              "           Salary\n",
              "Age              \n",
              "15     102.000000\n",
              "16     299.800000\n",
              "17    1926.606383\n",
              "18    3014.236607\n",
              "19    6427.360262\n",
              "20    7927.312757\n",
              "21   10599.637037\n",
              "22   17299.951049\n",
              "23   20894.114458\n",
              "24   25934.813483\n",
              "25   28423.075697\n",
              "26   29686.011364\n",
              "27   28680.973577\n",
              "28   30851.402490\n",
              "29   30421.368644\n",
              "30   35533.753181\n",
              "31   34108.674863\n",
              "32   27846.211009\n",
              "33   26717.555985\n",
              "34   27759.793103\n",
              "35   29568.256410\n",
              "36   37036.671053\n",
              "37   32844.717391\n",
              "38   16980.000000\n",
              "39   18708.533333\n",
              "40   20265.285714\n",
              "41   12002.000000\n",
              "42   12930.500000\n",
              "44   30239.000000"
            ],
            "text/html": [
              "\n",
              "  <div id=\"df-7209c8e0-0f34-42ff-9d9d-11dcedb23ff5\">\n",
              "    <div class=\"colab-df-container\">\n",
              "      <div>\n",
              "<style scoped>\n",
              "    .dataframe tbody tr th:only-of-type {\n",
              "        vertical-align: middle;\n",
              "    }\n",
              "\n",
              "    .dataframe tbody tr th {\n",
              "        vertical-align: top;\n",
              "    }\n",
              "\n",
              "    .dataframe thead th {\n",
              "        text-align: right;\n",
              "    }\n",
              "</style>\n",
              "<table border=\"1\" class=\"dataframe\">\n",
              "  <thead>\n",
              "    <tr style=\"text-align: right;\">\n",
              "      <th></th>\n",
              "      <th>Salary</th>\n",
              "    </tr>\n",
              "    <tr>\n",
              "      <th>Age</th>\n",
              "      <th></th>\n",
              "    </tr>\n",
              "  </thead>\n",
              "  <tbody>\n",
              "    <tr>\n",
              "      <th>15</th>\n",
              "      <td>102.000000</td>\n",
              "    </tr>\n",
              "    <tr>\n",
              "      <th>16</th>\n",
              "      <td>299.800000</td>\n",
              "    </tr>\n",
              "    <tr>\n",
              "      <th>17</th>\n",
              "      <td>1926.606383</td>\n",
              "    </tr>\n",
              "    <tr>\n",
              "      <th>18</th>\n",
              "      <td>3014.236607</td>\n",
              "    </tr>\n",
              "    <tr>\n",
              "      <th>19</th>\n",
              "      <td>6427.360262</td>\n",
              "    </tr>\n",
              "    <tr>\n",
              "      <th>20</th>\n",
              "      <td>7927.312757</td>\n",
              "    </tr>\n",
              "    <tr>\n",
              "      <th>21</th>\n",
              "      <td>10599.637037</td>\n",
              "    </tr>\n",
              "    <tr>\n",
              "      <th>22</th>\n",
              "      <td>17299.951049</td>\n",
              "    </tr>\n",
              "    <tr>\n",
              "      <th>23</th>\n",
              "      <td>20894.114458</td>\n",
              "    </tr>\n",
              "    <tr>\n",
              "      <th>24</th>\n",
              "      <td>25934.813483</td>\n",
              "    </tr>\n",
              "    <tr>\n",
              "      <th>25</th>\n",
              "      <td>28423.075697</td>\n",
              "    </tr>\n",
              "    <tr>\n",
              "      <th>26</th>\n",
              "      <td>29686.011364</td>\n",
              "    </tr>\n",
              "    <tr>\n",
              "      <th>27</th>\n",
              "      <td>28680.973577</td>\n",
              "    </tr>\n",
              "    <tr>\n",
              "      <th>28</th>\n",
              "      <td>30851.402490</td>\n",
              "    </tr>\n",
              "    <tr>\n",
              "      <th>29</th>\n",
              "      <td>30421.368644</td>\n",
              "    </tr>\n",
              "    <tr>\n",
              "      <th>30</th>\n",
              "      <td>35533.753181</td>\n",
              "    </tr>\n",
              "    <tr>\n",
              "      <th>31</th>\n",
              "      <td>34108.674863</td>\n",
              "    </tr>\n",
              "    <tr>\n",
              "      <th>32</th>\n",
              "      <td>27846.211009</td>\n",
              "    </tr>\n",
              "    <tr>\n",
              "      <th>33</th>\n",
              "      <td>26717.555985</td>\n",
              "    </tr>\n",
              "    <tr>\n",
              "      <th>34</th>\n",
              "      <td>27759.793103</td>\n",
              "    </tr>\n",
              "    <tr>\n",
              "      <th>35</th>\n",
              "      <td>29568.256410</td>\n",
              "    </tr>\n",
              "    <tr>\n",
              "      <th>36</th>\n",
              "      <td>37036.671053</td>\n",
              "    </tr>\n",
              "    <tr>\n",
              "      <th>37</th>\n",
              "      <td>32844.717391</td>\n",
              "    </tr>\n",
              "    <tr>\n",
              "      <th>38</th>\n",
              "      <td>16980.000000</td>\n",
              "    </tr>\n",
              "    <tr>\n",
              "      <th>39</th>\n",
              "      <td>18708.533333</td>\n",
              "    </tr>\n",
              "    <tr>\n",
              "      <th>40</th>\n",
              "      <td>20265.285714</td>\n",
              "    </tr>\n",
              "    <tr>\n",
              "      <th>41</th>\n",
              "      <td>12002.000000</td>\n",
              "    </tr>\n",
              "    <tr>\n",
              "      <th>42</th>\n",
              "      <td>12930.500000</td>\n",
              "    </tr>\n",
              "    <tr>\n",
              "      <th>44</th>\n",
              "      <td>30239.000000</td>\n",
              "    </tr>\n",
              "  </tbody>\n",
              "</table>\n",
              "</div>\n",
              "      <button class=\"colab-df-convert\" onclick=\"convertToInteractive('df-7209c8e0-0f34-42ff-9d9d-11dcedb23ff5')\"\n",
              "              title=\"Convert this dataframe to an interactive table.\"\n",
              "              style=\"display:none;\">\n",
              "        \n",
              "  <svg xmlns=\"http://www.w3.org/2000/svg\" height=\"24px\"viewBox=\"0 0 24 24\"\n",
              "       width=\"24px\">\n",
              "    <path d=\"M0 0h24v24H0V0z\" fill=\"none\"/>\n",
              "    <path d=\"M18.56 5.44l.94 2.06.94-2.06 2.06-.94-2.06-.94-.94-2.06-.94 2.06-2.06.94zm-11 1L8.5 8.5l.94-2.06 2.06-.94-2.06-.94L8.5 2.5l-.94 2.06-2.06.94zm10 10l.94 2.06.94-2.06 2.06-.94-2.06-.94-.94-2.06-.94 2.06-2.06.94z\"/><path d=\"M17.41 7.96l-1.37-1.37c-.4-.4-.92-.59-1.43-.59-.52 0-1.04.2-1.43.59L10.3 9.45l-7.72 7.72c-.78.78-.78 2.05 0 2.83L4 21.41c.39.39.9.59 1.41.59.51 0 1.02-.2 1.41-.59l7.78-7.78 2.81-2.81c.8-.78.8-2.07 0-2.86zM5.41 20L4 18.59l7.72-7.72 1.47 1.35L5.41 20z\"/>\n",
              "  </svg>\n",
              "      </button>\n",
              "      \n",
              "  <style>\n",
              "    .colab-df-container {\n",
              "      display:flex;\n",
              "      flex-wrap:wrap;\n",
              "      gap: 12px;\n",
              "    }\n",
              "\n",
              "    .colab-df-convert {\n",
              "      background-color: #E8F0FE;\n",
              "      border: none;\n",
              "      border-radius: 50%;\n",
              "      cursor: pointer;\n",
              "      display: none;\n",
              "      fill: #1967D2;\n",
              "      height: 32px;\n",
              "      padding: 0 0 0 0;\n",
              "      width: 32px;\n",
              "    }\n",
              "\n",
              "    .colab-df-convert:hover {\n",
              "      background-color: #E2EBFA;\n",
              "      box-shadow: 0px 1px 2px rgba(60, 64, 67, 0.3), 0px 1px 3px 1px rgba(60, 64, 67, 0.15);\n",
              "      fill: #174EA6;\n",
              "    }\n",
              "\n",
              "    [theme=dark] .colab-df-convert {\n",
              "      background-color: #3B4455;\n",
              "      fill: #D2E3FC;\n",
              "    }\n",
              "\n",
              "    [theme=dark] .colab-df-convert:hover {\n",
              "      background-color: #434B5C;\n",
              "      box-shadow: 0px 1px 3px 1px rgba(0, 0, 0, 0.15);\n",
              "      filter: drop-shadow(0px 1px 2px rgba(0, 0, 0, 0.3));\n",
              "      fill: #FFFFFF;\n",
              "    }\n",
              "  </style>\n",
              "\n",
              "      <script>\n",
              "        const buttonEl =\n",
              "          document.querySelector('#df-7209c8e0-0f34-42ff-9d9d-11dcedb23ff5 button.colab-df-convert');\n",
              "        buttonEl.style.display =\n",
              "          google.colab.kernel.accessAllowed ? 'block' : 'none';\n",
              "\n",
              "        async function convertToInteractive(key) {\n",
              "          const element = document.querySelector('#df-7209c8e0-0f34-42ff-9d9d-11dcedb23ff5');\n",
              "          const dataTable =\n",
              "            await google.colab.kernel.invokeFunction('convertToInteractive',\n",
              "                                                     [key], {});\n",
              "          if (!dataTable) return;\n",
              "\n",
              "          const docLinkHtml = 'Like what you see? Visit the ' +\n",
              "            '<a target=\"_blank\" href=https://colab.research.google.com/notebooks/data_table.ipynb>data table notebook</a>'\n",
              "            + ' to learn more about interactive tables.';\n",
              "          element.innerHTML = '';\n",
              "          dataTable['output_type'] = 'display_data';\n",
              "          await google.colab.output.renderOutput(dataTable, element);\n",
              "          const docLink = document.createElement('div');\n",
              "          docLink.innerHTML = docLinkHtml;\n",
              "          element.appendChild(docLink);\n",
              "        }\n",
              "      </script>\n",
              "    </div>\n",
              "  </div>\n",
              "  "
            ]
          },
          "metadata": {},
          "execution_count": 103
        }
      ]
    },
    {
      "cell_type": "markdown",
      "source": [
        "##Dropping Duplicates\n",
        "\n",
        "* Drop duplicates within 'Position' column in fm_2023_df\n",
        "* Drop Null values within 'Salary' column in Summary_fm_2023_df"
      ],
      "metadata": {
        "id": "d9kZdibTtjyG"
      }
    },
    {
      "cell_type": "markdown",
      "source": [
        "###Dropping Duplicates within 'Position' column in Summary_fm_2023_df"
      ],
      "metadata": {
        "id": "d8t3poSzFOnn"
      }
    },
    {
      "cell_type": "code",
      "source": [
        "#Dropping Duplicates within the 'Position' Column in fm_2023_df\n",
        "\n",
        "Position_df = fm_2023_df.drop_duplicates(subset=\"Position\").iloc[:,1:2]\n",
        "print(Position_df)\n",
        "Position_df.shape"
      ],
      "metadata": {
        "colab": {
          "base_uri": "https://localhost:8080/"
        },
        "id": "gzw_rP7jNpNp",
        "outputId": "4b291ea3-c30a-4748-8fb0-192cc59698d1"
      },
      "execution_count": 104,
      "outputs": [
        {
          "output_type": "stream",
          "name": "stdout",
          "text": [
            "        Position\n",
            "0       M/AM RLC\n",
            "1        AM/S RL\n",
            "2              S\n",
            "6            S C\n",
            "7             GK\n",
            "...          ...\n",
            "7142  D/WB/DM RL\n",
            "7286        WB L\n",
            "7706        M RL\n",
            "8101     DM/AM C\n",
            "8423       D/S C\n",
            "\n",
            "[147 rows x 1 columns]\n"
          ]
        },
        {
          "output_type": "execute_result",
          "data": {
            "text/plain": [
              "(147, 1)"
            ]
          },
          "metadata": {},
          "execution_count": 104
        }
      ]
    },
    {
      "cell_type": "code",
      "source": [
        "#Check if the number of values in Position_df matches the number of Unique values in 'Postion' column from fm_2023_df\n",
        "\n",
        "Position_df[\"Position\"].count() == fm_2023_df[\"Position\"].nunique()"
      ],
      "metadata": {
        "colab": {
          "base_uri": "https://localhost:8080/"
        },
        "id": "0_kREueYwb76",
        "outputId": "89b2984f-c3bf-4b40-d4f6-f2a55b113f87"
      },
      "execution_count": 105,
      "outputs": [
        {
          "output_type": "execute_result",
          "data": {
            "text/plain": [
              "True"
            ]
          },
          "metadata": {},
          "execution_count": 105
        }
      ]
    },
    {
      "cell_type": "markdown",
      "source": [
        "###Drop Null values within Summary_fm_2023_df"
      ],
      "metadata": {
        "id": "oBfsOyG8FWi8"
      }
    },
    {
      "cell_type": "code",
      "source": [
        "#What columns contain Null values in Summary_fm_2023_df\n",
        "\n",
        "print(Summary_fm_2023_df.isnull().sum())\n",
        "\n",
        "print(\"The Total Number of Null values is :\", Summary_fm_2023_df.isnull().sum().sum())"
      ],
      "metadata": {
        "colab": {
          "base_uri": "https://localhost:8080/"
        },
        "id": "AjWTf0FaL6qm",
        "outputId": "b4af1de5-7042-44d8-bdf2-817ee0bc87e2"
      },
      "execution_count": 106,
      "outputs": [
        {
          "output_type": "stream",
          "name": "stdout",
          "text": [
            "Position              0\n",
            "Nationality           0\n",
            "Club                107\n",
            "Age                   0\n",
            "Height                0\n",
            "Weight                0\n",
            "Salary              107\n",
            "ca                    0\n",
            "pa                    0\n",
            "Dribbling             0\n",
            "Finishing             0\n",
            "First Touch           0\n",
            "Free Kick Taking      0\n",
            "Heading               0\n",
            "Long Shots            0\n",
            "Penalty Taking        0\n",
            "dtype: int64\n",
            "The Total Number of Null values is : 214\n"
          ]
        }
      ]
    },
    {
      "cell_type": "code",
      "source": [
        "#Drop Null values within Summary_fm_2023_df\n",
        "\n",
        "print(\"The Summary_fm_2023_df originally had a total of :\", Summary_fm_2023_df.isnull().sum().sum(), \" Null Values\")\n",
        "\n",
        "Summary_fm_2023_df = Summary_fm_2023_df.dropna()\n",
        "\n",
        "print(\"After using dropna() the dataframe now has :\", Summary_fm_2023_df.isnull().sum().sum(),\" Null Values\")"
      ],
      "metadata": {
        "colab": {
          "base_uri": "https://localhost:8080/"
        },
        "id": "3gWI6bX_YQdB",
        "outputId": "47d6a45b-1231-4fd1-d94e-2d53ad908b47"
      },
      "execution_count": 107,
      "outputs": [
        {
          "output_type": "stream",
          "name": "stdout",
          "text": [
            "The Summary_fm_2023_df originally had a total of : 214  Null Values\n",
            "After using dropna() the dataframe now has : 0  Null Values\n"
          ]
        }
      ]
    },
    {
      "cell_type": "markdown",
      "source": [
        "##Replacing missing values (Used for example purpose\\)\n",
        "\n",
        "Replace Null Values within 'Salary' column with the mean value based on 'Age'\n",
        "\n",
        "\n"
      ],
      "metadata": {
        "id": "VadhFEQzt1ql"
      }
    },
    {
      "cell_type": "code",
      "source": [
        "#Create DataFrame showing the mean values for 'Salary' Column by 'Age'\n",
        "\n",
        "Salary_mean_df = Age_df.sort_values(by=\"Age\", ascending=True).iloc[:,2:3] #Age_df was created in Grouping DataFrames section\n",
        "print(Salary_mean_df)"
      ],
      "metadata": {
        "colab": {
          "base_uri": "https://localhost:8080/"
        },
        "id": "hY4uP4K3uHVn",
        "outputId": "67054f79-f155-428f-feaa-8270c0e93308"
      },
      "execution_count": 108,
      "outputs": [
        {
          "output_type": "stream",
          "name": "stdout",
          "text": [
            "           Salary\n",
            "Age              \n",
            "15     102.000000\n",
            "16     299.800000\n",
            "17    1926.606383\n",
            "18    3014.236607\n",
            "19    6427.360262\n",
            "20    7927.312757\n",
            "21   10599.637037\n",
            "22   17299.951049\n",
            "23   20894.114458\n",
            "24   25934.813483\n",
            "25   28423.075697\n",
            "26   29686.011364\n",
            "27   28680.973577\n",
            "28   30851.402490\n",
            "29   30421.368644\n",
            "30   35533.753181\n",
            "31   34108.674863\n",
            "32   27846.211009\n",
            "33   26717.555985\n",
            "34   27759.793103\n",
            "35   29568.256410\n",
            "36   37036.671053\n",
            "37   32844.717391\n",
            "38   16980.000000\n",
            "39   18708.533333\n",
            "40   20265.285714\n",
            "41   12002.000000\n",
            "42   12930.500000\n",
            "44   30239.000000\n"
          ]
        }
      ]
    },
    {
      "cell_type": "code",
      "source": [
        "#Convert Salary_mean_df to dictionary\n",
        "\n",
        "Salary_mean_dict = Salary_mean_df.to_dict()"
      ],
      "metadata": {
        "id": "du_op7iK4jHc"
      },
      "execution_count": 109,
      "outputs": []
    },
    {
      "cell_type": "code",
      "source": [
        "#Fill in null values in 'Salary' column in fm_2023_df using Salary_mean_df dict\n",
        "\n",
        "print(\"The number of null values within the 'Salary' column was :\", fm_2023_df[\"Salary\"].isnull().sum())\n",
        "Replaced_Salary = fm_2023_df.set_index(\"Age\").fillna(value=Salary_mean_dict)\n",
        "print(\"The number of null values within the 'Salary' column after formula is :\", Replaced_Salary[\"Salary\"].isnull().sum())"
      ],
      "metadata": {
        "colab": {
          "base_uri": "https://localhost:8080/"
        },
        "id": "LLCGgvMK5ANe",
        "outputId": "34b94ad7-864a-47af-f727-993c30dec547"
      },
      "execution_count": 110,
      "outputs": [
        {
          "output_type": "stream",
          "name": "stdout",
          "text": [
            "The number of null values within the 'Salary' column was : 107\n",
            "The number of null values within the 'Salary' column after formula is : 0\n"
          ]
        }
      ]
    },
    {
      "cell_type": "markdown",
      "source": [
        "#Analysis\n",
        "\n",
        "* Conditional Statements, looping, groupby\n",
        "* Define a custom function to create reusable code\n",
        "* Use NumPy functions\n",
        "* Dictionary or Lists"
      ],
      "metadata": {
        "id": "b1UUD1lXDpVA"
      }
    },
    {
      "cell_type": "markdown",
      "source": [
        "##Sorting DataFrames\n",
        "\n",
        "* Sort Summary_fm_2023_df to show Top 5 players by Finishing\n",
        "* Sort Summary_fm_2023_df to show Top 10 players by pa (Potential Ability)\n",
        "\n",
        "\n",
        "\n"
      ],
      "metadata": {
        "id": "NNATYiVwxbyK"
      }
    },
    {
      "cell_type": "code",
      "source": [
        "# Sort Summary_fm_2023_df by Finishing\n",
        "\n",
        "Summary_fm_2023_df.sort_values(by='Finishing', ascending=False).iloc[:5,6:11]"
      ],
      "metadata": {
        "colab": {
          "base_uri": "https://localhost:8080/",
          "height": 237
        },
        "id": "IRD3AFzesCYs",
        "outputId": "86085ebc-afa4-4707-d209-3a259ed859be"
      },
      "execution_count": 111,
      "outputs": [
        {
          "output_type": "execute_result",
          "data": {
            "text/plain": [
              "                      Salary   ca   pa  Dribbling  Finishing\n",
              "Name                                                        \n",
              "Zlatan Ibrahimović   36922.0  152  186         12         19\n",
              "Robert Lewandowski  345204.0  186  190         13         19\n",
              "Cristiano Ronaldo   556760.0  158  196         11         19\n",
              "Harry Kane          231983.0  183  185         14         19\n",
              "Erling Haaland      394372.0  185  195         14         18"
            ],
            "text/html": [
              "\n",
              "  <div id=\"df-d0ad6306-d832-4f5a-9bb0-e01fd313249a\">\n",
              "    <div class=\"colab-df-container\">\n",
              "      <div>\n",
              "<style scoped>\n",
              "    .dataframe tbody tr th:only-of-type {\n",
              "        vertical-align: middle;\n",
              "    }\n",
              "\n",
              "    .dataframe tbody tr th {\n",
              "        vertical-align: top;\n",
              "    }\n",
              "\n",
              "    .dataframe thead th {\n",
              "        text-align: right;\n",
              "    }\n",
              "</style>\n",
              "<table border=\"1\" class=\"dataframe\">\n",
              "  <thead>\n",
              "    <tr style=\"text-align: right;\">\n",
              "      <th></th>\n",
              "      <th>Salary</th>\n",
              "      <th>ca</th>\n",
              "      <th>pa</th>\n",
              "      <th>Dribbling</th>\n",
              "      <th>Finishing</th>\n",
              "    </tr>\n",
              "    <tr>\n",
              "      <th>Name</th>\n",
              "      <th></th>\n",
              "      <th></th>\n",
              "      <th></th>\n",
              "      <th></th>\n",
              "      <th></th>\n",
              "    </tr>\n",
              "  </thead>\n",
              "  <tbody>\n",
              "    <tr>\n",
              "      <th>Zlatan Ibrahimović</th>\n",
              "      <td>36922.0</td>\n",
              "      <td>152</td>\n",
              "      <td>186</td>\n",
              "      <td>12</td>\n",
              "      <td>19</td>\n",
              "    </tr>\n",
              "    <tr>\n",
              "      <th>Robert Lewandowski</th>\n",
              "      <td>345204.0</td>\n",
              "      <td>186</td>\n",
              "      <td>190</td>\n",
              "      <td>13</td>\n",
              "      <td>19</td>\n",
              "    </tr>\n",
              "    <tr>\n",
              "      <th>Cristiano Ronaldo</th>\n",
              "      <td>556760.0</td>\n",
              "      <td>158</td>\n",
              "      <td>196</td>\n",
              "      <td>11</td>\n",
              "      <td>19</td>\n",
              "    </tr>\n",
              "    <tr>\n",
              "      <th>Harry Kane</th>\n",
              "      <td>231983.0</td>\n",
              "      <td>183</td>\n",
              "      <td>185</td>\n",
              "      <td>14</td>\n",
              "      <td>19</td>\n",
              "    </tr>\n",
              "    <tr>\n",
              "      <th>Erling Haaland</th>\n",
              "      <td>394372.0</td>\n",
              "      <td>185</td>\n",
              "      <td>195</td>\n",
              "      <td>14</td>\n",
              "      <td>18</td>\n",
              "    </tr>\n",
              "  </tbody>\n",
              "</table>\n",
              "</div>\n",
              "      <button class=\"colab-df-convert\" onclick=\"convertToInteractive('df-d0ad6306-d832-4f5a-9bb0-e01fd313249a')\"\n",
              "              title=\"Convert this dataframe to an interactive table.\"\n",
              "              style=\"display:none;\">\n",
              "        \n",
              "  <svg xmlns=\"http://www.w3.org/2000/svg\" height=\"24px\"viewBox=\"0 0 24 24\"\n",
              "       width=\"24px\">\n",
              "    <path d=\"M0 0h24v24H0V0z\" fill=\"none\"/>\n",
              "    <path d=\"M18.56 5.44l.94 2.06.94-2.06 2.06-.94-2.06-.94-.94-2.06-.94 2.06-2.06.94zm-11 1L8.5 8.5l.94-2.06 2.06-.94-2.06-.94L8.5 2.5l-.94 2.06-2.06.94zm10 10l.94 2.06.94-2.06 2.06-.94-2.06-.94-.94-2.06-.94 2.06-2.06.94z\"/><path d=\"M17.41 7.96l-1.37-1.37c-.4-.4-.92-.59-1.43-.59-.52 0-1.04.2-1.43.59L10.3 9.45l-7.72 7.72c-.78.78-.78 2.05 0 2.83L4 21.41c.39.39.9.59 1.41.59.51 0 1.02-.2 1.41-.59l7.78-7.78 2.81-2.81c.8-.78.8-2.07 0-2.86zM5.41 20L4 18.59l7.72-7.72 1.47 1.35L5.41 20z\"/>\n",
              "  </svg>\n",
              "      </button>\n",
              "      \n",
              "  <style>\n",
              "    .colab-df-container {\n",
              "      display:flex;\n",
              "      flex-wrap:wrap;\n",
              "      gap: 12px;\n",
              "    }\n",
              "\n",
              "    .colab-df-convert {\n",
              "      background-color: #E8F0FE;\n",
              "      border: none;\n",
              "      border-radius: 50%;\n",
              "      cursor: pointer;\n",
              "      display: none;\n",
              "      fill: #1967D2;\n",
              "      height: 32px;\n",
              "      padding: 0 0 0 0;\n",
              "      width: 32px;\n",
              "    }\n",
              "\n",
              "    .colab-df-convert:hover {\n",
              "      background-color: #E2EBFA;\n",
              "      box-shadow: 0px 1px 2px rgba(60, 64, 67, 0.3), 0px 1px 3px 1px rgba(60, 64, 67, 0.15);\n",
              "      fill: #174EA6;\n",
              "    }\n",
              "\n",
              "    [theme=dark] .colab-df-convert {\n",
              "      background-color: #3B4455;\n",
              "      fill: #D2E3FC;\n",
              "    }\n",
              "\n",
              "    [theme=dark] .colab-df-convert:hover {\n",
              "      background-color: #434B5C;\n",
              "      box-shadow: 0px 1px 3px 1px rgba(0, 0, 0, 0.15);\n",
              "      filter: drop-shadow(0px 1px 2px rgba(0, 0, 0, 0.3));\n",
              "      fill: #FFFFFF;\n",
              "    }\n",
              "  </style>\n",
              "\n",
              "      <script>\n",
              "        const buttonEl =\n",
              "          document.querySelector('#df-d0ad6306-d832-4f5a-9bb0-e01fd313249a button.colab-df-convert');\n",
              "        buttonEl.style.display =\n",
              "          google.colab.kernel.accessAllowed ? 'block' : 'none';\n",
              "\n",
              "        async function convertToInteractive(key) {\n",
              "          const element = document.querySelector('#df-d0ad6306-d832-4f5a-9bb0-e01fd313249a');\n",
              "          const dataTable =\n",
              "            await google.colab.kernel.invokeFunction('convertToInteractive',\n",
              "                                                     [key], {});\n",
              "          if (!dataTable) return;\n",
              "\n",
              "          const docLinkHtml = 'Like what you see? Visit the ' +\n",
              "            '<a target=\"_blank\" href=https://colab.research.google.com/notebooks/data_table.ipynb>data table notebook</a>'\n",
              "            + ' to learn more about interactive tables.';\n",
              "          element.innerHTML = '';\n",
              "          dataTable['output_type'] = 'display_data';\n",
              "          await google.colab.output.renderOutput(dataTable, element);\n",
              "          const docLink = document.createElement('div');\n",
              "          docLink.innerHTML = docLinkHtml;\n",
              "          element.appendChild(docLink);\n",
              "        }\n",
              "      </script>\n",
              "    </div>\n",
              "  </div>\n",
              "  "
            ]
          },
          "metadata": {},
          "execution_count": 111
        }
      ]
    },
    {
      "cell_type": "code",
      "source": [
        "# Sort Summary_fm_2023_df by pa\n",
        "\n",
        "Summary_fm_2023_df.sort_values(by=\"pa\", ascending=False).iloc[:10, 6:9]"
      ],
      "metadata": {
        "colab": {
          "base_uri": "https://localhost:8080/",
          "height": 394
        },
        "id": "VizWtcr8Gf0V",
        "outputId": "07dba04c-0f6a-4692-8afb-bc22897ac1f2"
      },
      "execution_count": 112,
      "outputs": [
        {
          "output_type": "execute_result",
          "data": {
            "text/plain": [
              "                       Salary   ca   pa\n",
              "Name                                   \n",
              "Lionel Messi         776712.0  180  200\n",
              "Kylian Mbappé       1035616.0  188  197\n",
              "Cristiano Ronaldo    556760.0  158  196\n",
              "Erling Haaland       394372.0  185  195\n",
              "Gianluigi Buffon      30239.0  125  194\n",
              "Manuel Neuer         345204.0  175  193\n",
              "Robert Lewandowski   345204.0  186  190\n",
              "Neymar               939648.0  177  190\n",
              "Kevin De Bruyne      394372.0  189  189\n",
              "Luis Suárez            8121.0  147  188"
            ],
            "text/html": [
              "\n",
              "  <div id=\"df-969911f4-7597-4895-8efd-ec3654bb2791\">\n",
              "    <div class=\"colab-df-container\">\n",
              "      <div>\n",
              "<style scoped>\n",
              "    .dataframe tbody tr th:only-of-type {\n",
              "        vertical-align: middle;\n",
              "    }\n",
              "\n",
              "    .dataframe tbody tr th {\n",
              "        vertical-align: top;\n",
              "    }\n",
              "\n",
              "    .dataframe thead th {\n",
              "        text-align: right;\n",
              "    }\n",
              "</style>\n",
              "<table border=\"1\" class=\"dataframe\">\n",
              "  <thead>\n",
              "    <tr style=\"text-align: right;\">\n",
              "      <th></th>\n",
              "      <th>Salary</th>\n",
              "      <th>ca</th>\n",
              "      <th>pa</th>\n",
              "    </tr>\n",
              "    <tr>\n",
              "      <th>Name</th>\n",
              "      <th></th>\n",
              "      <th></th>\n",
              "      <th></th>\n",
              "    </tr>\n",
              "  </thead>\n",
              "  <tbody>\n",
              "    <tr>\n",
              "      <th>Lionel Messi</th>\n",
              "      <td>776712.0</td>\n",
              "      <td>180</td>\n",
              "      <td>200</td>\n",
              "    </tr>\n",
              "    <tr>\n",
              "      <th>Kylian Mbappé</th>\n",
              "      <td>1035616.0</td>\n",
              "      <td>188</td>\n",
              "      <td>197</td>\n",
              "    </tr>\n",
              "    <tr>\n",
              "      <th>Cristiano Ronaldo</th>\n",
              "      <td>556760.0</td>\n",
              "      <td>158</td>\n",
              "      <td>196</td>\n",
              "    </tr>\n",
              "    <tr>\n",
              "      <th>Erling Haaland</th>\n",
              "      <td>394372.0</td>\n",
              "      <td>185</td>\n",
              "      <td>195</td>\n",
              "    </tr>\n",
              "    <tr>\n",
              "      <th>Gianluigi Buffon</th>\n",
              "      <td>30239.0</td>\n",
              "      <td>125</td>\n",
              "      <td>194</td>\n",
              "    </tr>\n",
              "    <tr>\n",
              "      <th>Manuel Neuer</th>\n",
              "      <td>345204.0</td>\n",
              "      <td>175</td>\n",
              "      <td>193</td>\n",
              "    </tr>\n",
              "    <tr>\n",
              "      <th>Robert Lewandowski</th>\n",
              "      <td>345204.0</td>\n",
              "      <td>186</td>\n",
              "      <td>190</td>\n",
              "    </tr>\n",
              "    <tr>\n",
              "      <th>Neymar</th>\n",
              "      <td>939648.0</td>\n",
              "      <td>177</td>\n",
              "      <td>190</td>\n",
              "    </tr>\n",
              "    <tr>\n",
              "      <th>Kevin De Bruyne</th>\n",
              "      <td>394372.0</td>\n",
              "      <td>189</td>\n",
              "      <td>189</td>\n",
              "    </tr>\n",
              "    <tr>\n",
              "      <th>Luis Suárez</th>\n",
              "      <td>8121.0</td>\n",
              "      <td>147</td>\n",
              "      <td>188</td>\n",
              "    </tr>\n",
              "  </tbody>\n",
              "</table>\n",
              "</div>\n",
              "      <button class=\"colab-df-convert\" onclick=\"convertToInteractive('df-969911f4-7597-4895-8efd-ec3654bb2791')\"\n",
              "              title=\"Convert this dataframe to an interactive table.\"\n",
              "              style=\"display:none;\">\n",
              "        \n",
              "  <svg xmlns=\"http://www.w3.org/2000/svg\" height=\"24px\"viewBox=\"0 0 24 24\"\n",
              "       width=\"24px\">\n",
              "    <path d=\"M0 0h24v24H0V0z\" fill=\"none\"/>\n",
              "    <path d=\"M18.56 5.44l.94 2.06.94-2.06 2.06-.94-2.06-.94-.94-2.06-.94 2.06-2.06.94zm-11 1L8.5 8.5l.94-2.06 2.06-.94-2.06-.94L8.5 2.5l-.94 2.06-2.06.94zm10 10l.94 2.06.94-2.06 2.06-.94-2.06-.94-.94-2.06-.94 2.06-2.06.94z\"/><path d=\"M17.41 7.96l-1.37-1.37c-.4-.4-.92-.59-1.43-.59-.52 0-1.04.2-1.43.59L10.3 9.45l-7.72 7.72c-.78.78-.78 2.05 0 2.83L4 21.41c.39.39.9.59 1.41.59.51 0 1.02-.2 1.41-.59l7.78-7.78 2.81-2.81c.8-.78.8-2.07 0-2.86zM5.41 20L4 18.59l7.72-7.72 1.47 1.35L5.41 20z\"/>\n",
              "  </svg>\n",
              "      </button>\n",
              "      \n",
              "  <style>\n",
              "    .colab-df-container {\n",
              "      display:flex;\n",
              "      flex-wrap:wrap;\n",
              "      gap: 12px;\n",
              "    }\n",
              "\n",
              "    .colab-df-convert {\n",
              "      background-color: #E8F0FE;\n",
              "      border: none;\n",
              "      border-radius: 50%;\n",
              "      cursor: pointer;\n",
              "      display: none;\n",
              "      fill: #1967D2;\n",
              "      height: 32px;\n",
              "      padding: 0 0 0 0;\n",
              "      width: 32px;\n",
              "    }\n",
              "\n",
              "    .colab-df-convert:hover {\n",
              "      background-color: #E2EBFA;\n",
              "      box-shadow: 0px 1px 2px rgba(60, 64, 67, 0.3), 0px 1px 3px 1px rgba(60, 64, 67, 0.15);\n",
              "      fill: #174EA6;\n",
              "    }\n",
              "\n",
              "    [theme=dark] .colab-df-convert {\n",
              "      background-color: #3B4455;\n",
              "      fill: #D2E3FC;\n",
              "    }\n",
              "\n",
              "    [theme=dark] .colab-df-convert:hover {\n",
              "      background-color: #434B5C;\n",
              "      box-shadow: 0px 1px 3px 1px rgba(0, 0, 0, 0.15);\n",
              "      filter: drop-shadow(0px 1px 2px rgba(0, 0, 0, 0.3));\n",
              "      fill: #FFFFFF;\n",
              "    }\n",
              "  </style>\n",
              "\n",
              "      <script>\n",
              "        const buttonEl =\n",
              "          document.querySelector('#df-969911f4-7597-4895-8efd-ec3654bb2791 button.colab-df-convert');\n",
              "        buttonEl.style.display =\n",
              "          google.colab.kernel.accessAllowed ? 'block' : 'none';\n",
              "\n",
              "        async function convertToInteractive(key) {\n",
              "          const element = document.querySelector('#df-969911f4-7597-4895-8efd-ec3654bb2791');\n",
              "          const dataTable =\n",
              "            await google.colab.kernel.invokeFunction('convertToInteractive',\n",
              "                                                     [key], {});\n",
              "          if (!dataTable) return;\n",
              "\n",
              "          const docLinkHtml = 'Like what you see? Visit the ' +\n",
              "            '<a target=\"_blank\" href=https://colab.research.google.com/notebooks/data_table.ipynb>data table notebook</a>'\n",
              "            + ' to learn more about interactive tables.';\n",
              "          element.innerHTML = '';\n",
              "          dataTable['output_type'] = 'display_data';\n",
              "          await google.colab.output.renderOutput(dataTable, element);\n",
              "          const docLink = document.createElement('div');\n",
              "          docLink.innerHTML = docLinkHtml;\n",
              "          element.appendChild(docLink);\n",
              "        }\n",
              "      </script>\n",
              "    </div>\n",
              "  </div>\n",
              "  "
            ]
          },
          "metadata": {},
          "execution_count": 112
        }
      ]
    },
    {
      "cell_type": "markdown",
      "source": [
        "##Grouping DataFrames\n",
        "\n",
        "Creating 2 Dataframes which will be grouped on Mean values\n",
        "* Club_df (Sorted/grouped by Club showing Mean)\n",
        "* Age_df (Sorted/grouped by Age showing Mean)\n"
      ],
      "metadata": {
        "id": "y3XXs8h8JR-t"
      }
    },
    {
      "cell_type": "code",
      "source": [
        "# Group Summary_fm_2023_df by Club\n",
        "\n",
        "Club_df = Summary_fm_2023_df.groupby(by=\"Club\").mean()\n",
        "Club_df.sort_values(by=\"Salary\", ascending=False).iloc[:10,0:5]"
      ],
      "metadata": {
        "colab": {
          "base_uri": "https://localhost:8080/",
          "height": 394
        },
        "id": "7hMxqIWmJkoS",
        "outputId": "82a10c13-2fba-436e-cea8-a6aeed933476"
      },
      "execution_count": 113,
      "outputs": [
        {
          "output_type": "execute_result",
          "data": {
            "text/plain": [
              "                             Age      Height     Weight         Salary  \\\n",
              "Club                                                                     \n",
              "Paris Saint-Germain    24.439024  180.463415  56.609756  154867.682927   \n",
              "FC Bayern München      22.045455  183.977273  71.318182  108386.931818   \n",
              "Manchester UFC         22.375000  182.321429  66.267857   98694.982143   \n",
              "Al-Rayyan Sports Club  30.666667  186.333333  78.333333   98606.333333   \n",
              "Liverpool              23.044444  181.888889  48.355556   84998.777778   \n",
              "A. Madrid              24.794872  181.000000  65.025641   84920.487179   \n",
              "Barcelona              22.076923  179.653846  56.634615   82630.711538   \n",
              "Chelsea                21.650794  182.174603  56.714286   80974.777778   \n",
              "Tottenham Hotspur      23.736842  182.736842  58.394737   78315.789474   \n",
              "Manchester City        21.642857  180.714286  38.839286   76293.035714   \n",
              "\n",
              "                               ca  \n",
              "Club                               \n",
              "Paris Saint-Germain    135.000000  \n",
              "FC Bayern München      127.295455  \n",
              "Manchester UFC         118.928571  \n",
              "Al-Rayyan Sports Club  127.666667  \n",
              "Liverpool              127.688889  \n",
              "A. Madrid              134.948718  \n",
              "Barcelona              128.346154  \n",
              "Chelsea                119.111111  \n",
              "Tottenham Hotspur      131.763158  \n",
              "Manchester City        123.303571  "
            ],
            "text/html": [
              "\n",
              "  <div id=\"df-6d4adb9b-4498-4759-b0c1-e4248f66ba17\">\n",
              "    <div class=\"colab-df-container\">\n",
              "      <div>\n",
              "<style scoped>\n",
              "    .dataframe tbody tr th:only-of-type {\n",
              "        vertical-align: middle;\n",
              "    }\n",
              "\n",
              "    .dataframe tbody tr th {\n",
              "        vertical-align: top;\n",
              "    }\n",
              "\n",
              "    .dataframe thead th {\n",
              "        text-align: right;\n",
              "    }\n",
              "</style>\n",
              "<table border=\"1\" class=\"dataframe\">\n",
              "  <thead>\n",
              "    <tr style=\"text-align: right;\">\n",
              "      <th></th>\n",
              "      <th>Age</th>\n",
              "      <th>Height</th>\n",
              "      <th>Weight</th>\n",
              "      <th>Salary</th>\n",
              "      <th>ca</th>\n",
              "    </tr>\n",
              "    <tr>\n",
              "      <th>Club</th>\n",
              "      <th></th>\n",
              "      <th></th>\n",
              "      <th></th>\n",
              "      <th></th>\n",
              "      <th></th>\n",
              "    </tr>\n",
              "  </thead>\n",
              "  <tbody>\n",
              "    <tr>\n",
              "      <th>Paris Saint-Germain</th>\n",
              "      <td>24.439024</td>\n",
              "      <td>180.463415</td>\n",
              "      <td>56.609756</td>\n",
              "      <td>154867.682927</td>\n",
              "      <td>135.000000</td>\n",
              "    </tr>\n",
              "    <tr>\n",
              "      <th>FC Bayern München</th>\n",
              "      <td>22.045455</td>\n",
              "      <td>183.977273</td>\n",
              "      <td>71.318182</td>\n",
              "      <td>108386.931818</td>\n",
              "      <td>127.295455</td>\n",
              "    </tr>\n",
              "    <tr>\n",
              "      <th>Manchester UFC</th>\n",
              "      <td>22.375000</td>\n",
              "      <td>182.321429</td>\n",
              "      <td>66.267857</td>\n",
              "      <td>98694.982143</td>\n",
              "      <td>118.928571</td>\n",
              "    </tr>\n",
              "    <tr>\n",
              "      <th>Al-Rayyan Sports Club</th>\n",
              "      <td>30.666667</td>\n",
              "      <td>186.333333</td>\n",
              "      <td>78.333333</td>\n",
              "      <td>98606.333333</td>\n",
              "      <td>127.666667</td>\n",
              "    </tr>\n",
              "    <tr>\n",
              "      <th>Liverpool</th>\n",
              "      <td>23.044444</td>\n",
              "      <td>181.888889</td>\n",
              "      <td>48.355556</td>\n",
              "      <td>84998.777778</td>\n",
              "      <td>127.688889</td>\n",
              "    </tr>\n",
              "    <tr>\n",
              "      <th>A. Madrid</th>\n",
              "      <td>24.794872</td>\n",
              "      <td>181.000000</td>\n",
              "      <td>65.025641</td>\n",
              "      <td>84920.487179</td>\n",
              "      <td>134.948718</td>\n",
              "    </tr>\n",
              "    <tr>\n",
              "      <th>Barcelona</th>\n",
              "      <td>22.076923</td>\n",
              "      <td>179.653846</td>\n",
              "      <td>56.634615</td>\n",
              "      <td>82630.711538</td>\n",
              "      <td>128.346154</td>\n",
              "    </tr>\n",
              "    <tr>\n",
              "      <th>Chelsea</th>\n",
              "      <td>21.650794</td>\n",
              "      <td>182.174603</td>\n",
              "      <td>56.714286</td>\n",
              "      <td>80974.777778</td>\n",
              "      <td>119.111111</td>\n",
              "    </tr>\n",
              "    <tr>\n",
              "      <th>Tottenham Hotspur</th>\n",
              "      <td>23.736842</td>\n",
              "      <td>182.736842</td>\n",
              "      <td>58.394737</td>\n",
              "      <td>78315.789474</td>\n",
              "      <td>131.763158</td>\n",
              "    </tr>\n",
              "    <tr>\n",
              "      <th>Manchester City</th>\n",
              "      <td>21.642857</td>\n",
              "      <td>180.714286</td>\n",
              "      <td>38.839286</td>\n",
              "      <td>76293.035714</td>\n",
              "      <td>123.303571</td>\n",
              "    </tr>\n",
              "  </tbody>\n",
              "</table>\n",
              "</div>\n",
              "      <button class=\"colab-df-convert\" onclick=\"convertToInteractive('df-6d4adb9b-4498-4759-b0c1-e4248f66ba17')\"\n",
              "              title=\"Convert this dataframe to an interactive table.\"\n",
              "              style=\"display:none;\">\n",
              "        \n",
              "  <svg xmlns=\"http://www.w3.org/2000/svg\" height=\"24px\"viewBox=\"0 0 24 24\"\n",
              "       width=\"24px\">\n",
              "    <path d=\"M0 0h24v24H0V0z\" fill=\"none\"/>\n",
              "    <path d=\"M18.56 5.44l.94 2.06.94-2.06 2.06-.94-2.06-.94-.94-2.06-.94 2.06-2.06.94zm-11 1L8.5 8.5l.94-2.06 2.06-.94-2.06-.94L8.5 2.5l-.94 2.06-2.06.94zm10 10l.94 2.06.94-2.06 2.06-.94-2.06-.94-.94-2.06-.94 2.06-2.06.94z\"/><path d=\"M17.41 7.96l-1.37-1.37c-.4-.4-.92-.59-1.43-.59-.52 0-1.04.2-1.43.59L10.3 9.45l-7.72 7.72c-.78.78-.78 2.05 0 2.83L4 21.41c.39.39.9.59 1.41.59.51 0 1.02-.2 1.41-.59l7.78-7.78 2.81-2.81c.8-.78.8-2.07 0-2.86zM5.41 20L4 18.59l7.72-7.72 1.47 1.35L5.41 20z\"/>\n",
              "  </svg>\n",
              "      </button>\n",
              "      \n",
              "  <style>\n",
              "    .colab-df-container {\n",
              "      display:flex;\n",
              "      flex-wrap:wrap;\n",
              "      gap: 12px;\n",
              "    }\n",
              "\n",
              "    .colab-df-convert {\n",
              "      background-color: #E8F0FE;\n",
              "      border: none;\n",
              "      border-radius: 50%;\n",
              "      cursor: pointer;\n",
              "      display: none;\n",
              "      fill: #1967D2;\n",
              "      height: 32px;\n",
              "      padding: 0 0 0 0;\n",
              "      width: 32px;\n",
              "    }\n",
              "\n",
              "    .colab-df-convert:hover {\n",
              "      background-color: #E2EBFA;\n",
              "      box-shadow: 0px 1px 2px rgba(60, 64, 67, 0.3), 0px 1px 3px 1px rgba(60, 64, 67, 0.15);\n",
              "      fill: #174EA6;\n",
              "    }\n",
              "\n",
              "    [theme=dark] .colab-df-convert {\n",
              "      background-color: #3B4455;\n",
              "      fill: #D2E3FC;\n",
              "    }\n",
              "\n",
              "    [theme=dark] .colab-df-convert:hover {\n",
              "      background-color: #434B5C;\n",
              "      box-shadow: 0px 1px 3px 1px rgba(0, 0, 0, 0.15);\n",
              "      filter: drop-shadow(0px 1px 2px rgba(0, 0, 0, 0.3));\n",
              "      fill: #FFFFFF;\n",
              "    }\n",
              "  </style>\n",
              "\n",
              "      <script>\n",
              "        const buttonEl =\n",
              "          document.querySelector('#df-6d4adb9b-4498-4759-b0c1-e4248f66ba17 button.colab-df-convert');\n",
              "        buttonEl.style.display =\n",
              "          google.colab.kernel.accessAllowed ? 'block' : 'none';\n",
              "\n",
              "        async function convertToInteractive(key) {\n",
              "          const element = document.querySelector('#df-6d4adb9b-4498-4759-b0c1-e4248f66ba17');\n",
              "          const dataTable =\n",
              "            await google.colab.kernel.invokeFunction('convertToInteractive',\n",
              "                                                     [key], {});\n",
              "          if (!dataTable) return;\n",
              "\n",
              "          const docLinkHtml = 'Like what you see? Visit the ' +\n",
              "            '<a target=\"_blank\" href=https://colab.research.google.com/notebooks/data_table.ipynb>data table notebook</a>'\n",
              "            + ' to learn more about interactive tables.';\n",
              "          element.innerHTML = '';\n",
              "          dataTable['output_type'] = 'display_data';\n",
              "          await google.colab.output.renderOutput(dataTable, element);\n",
              "          const docLink = document.createElement('div');\n",
              "          docLink.innerHTML = docLinkHtml;\n",
              "          element.appendChild(docLink);\n",
              "        }\n",
              "      </script>\n",
              "    </div>\n",
              "  </div>\n",
              "  "
            ]
          },
          "metadata": {},
          "execution_count": 113
        }
      ]
    },
    {
      "cell_type": "markdown",
      "source": [
        "##Conditional Statement\n",
        "\n",
        "* Return the amount of players with Salary greater than 50000"
      ],
      "metadata": {
        "id": "oSNpIQir_tMS"
      }
    },
    {
      "cell_type": "code",
      "source": [
        "#Recall Summary_fm_2023_df\n",
        "\n",
        "print(Summary_fm_2023_df.info())"
      ],
      "metadata": {
        "id": "GjPs6quO33ei",
        "colab": {
          "base_uri": "https://localhost:8080/"
        },
        "outputId": "2c69d96d-acfa-4c39-dd52-756f7fbf84b6"
      },
      "execution_count": 114,
      "outputs": [
        {
          "output_type": "stream",
          "name": "stdout",
          "text": [
            "<class 'pandas.core.frame.DataFrame'>\n",
            "Index: 8345 entries, Kevin De Bruyne to Linus Urban\n",
            "Data columns (total 16 columns):\n",
            " #   Column            Non-Null Count  Dtype  \n",
            "---  ------            --------------  -----  \n",
            " 0   Position          8345 non-null   object \n",
            " 1   Nationality       8345 non-null   object \n",
            " 2   Club              8345 non-null   object \n",
            " 3   Age               8345 non-null   int64  \n",
            " 4   Height            8345 non-null   int64  \n",
            " 5   Weight            8345 non-null   int64  \n",
            " 6   Salary            8345 non-null   float64\n",
            " 7   ca                8345 non-null   int64  \n",
            " 8   pa                8345 non-null   int64  \n",
            " 9   Dribbling         8345 non-null   int64  \n",
            " 10  Finishing         8345 non-null   int64  \n",
            " 11  First Touch       8345 non-null   int64  \n",
            " 12  Free Kick Taking  8345 non-null   int64  \n",
            " 13  Heading           8345 non-null   int64  \n",
            " 14  Long Shots        8345 non-null   int64  \n",
            " 15  Penalty Taking    8345 non-null   int64  \n",
            "dtypes: float64(1), int64(12), object(3)\n",
            "memory usage: 1.1+ MB\n",
            "None\n"
          ]
        }
      ]
    },
    {
      "cell_type": "code",
      "source": [
        "#Create conditional statement to return the amount of players with Salary greater than 50000\n",
        "\n",
        "Summary_fm_2023_df.loc[Summary_fm_2023_df['Salary'] > 50000, 'Salary > 50,000'] = 'True'\n",
        "\n",
        "print(\"The total amount of players in the database is :\", Summary_fm_2023_df[\"Club\"].count())\n",
        "print(\"The amount of players with a salary over 50,000 is :\", Summary_fm_2023_df['Salary > 50,000'].notnull().sum())\n",
        "\n",
        "Percentage_Salary_Insight = round(((Summary_fm_2023_df['Salary > 50,000'].notnull().sum() / Summary_fm_2023_df[\"Club\"].count()) * 100), 1)\n",
        "\n",
        "print(\"The percentage of players in football manager 2023 that earn greater than 50,000 is :\", Percentage_Salary_Insight,\"%\")"
      ],
      "metadata": {
        "colab": {
          "base_uri": "https://localhost:8080/"
        },
        "id": "3Q8Ta4vkQlEB",
        "outputId": "ba0f5854-c2a8-4c8d-bba5-02af5edcd1ab"
      },
      "execution_count": 115,
      "outputs": [
        {
          "output_type": "stream",
          "name": "stdout",
          "text": [
            "The total amount of players in the database is : 8345\n",
            "The amount of players with a salary over 50,000 is : 814\n",
            "The percentage of players in football manager 2023 that earn greater than 50,000 is : 9.8 %\n"
          ]
        }
      ]
    },
    {
      "cell_type": "markdown",
      "source": [
        "###Looping/Define a custom function\n",
        "\n",
        "Creating a new column within Summary_fm_2023_df to tidy up positions into 4 key areas\n",
        "* Goalkeeper\n",
        "* Defender\n",
        "* Midfielder\n",
        "* Forward\n"
      ],
      "metadata": {
        "id": "cWHT8KHBWDpX"
      }
    },
    {
      "cell_type": "code",
      "source": [
        "Position_list = list(Position_df['Position'])\n",
        "print(len(Position_list))\n",
        "print(type(Position_list))\n",
        "print(Position_list)"
      ],
      "metadata": {
        "colab": {
          "base_uri": "https://localhost:8080/"
        },
        "id": "uj88P0qkrY4T",
        "outputId": "3a2278d4-941f-411c-88e7-67d3e30cffc6"
      },
      "execution_count": 116,
      "outputs": [
        {
          "output_type": "stream",
          "name": "stdout",
          "text": [
            "147\n",
            "<class 'list'>\n",
            "['M/AM RLC', 'AM/S RL', 'S', 'S C', 'GK', 'D C', 'AM/S RC', 'M C', 'D/DM/M RC', 'M/AM LC', 'M/AM RC', 'DM C', 'AM RL', 'AM/S L', 'AM/S RLC', 'AM RC', 'DM/M/AM C', 'M/AM RL', 'DM/M C', 'D/WB RL', 'AM/S C', 'AM L', 'M/AM C', 'AM RLC', 'WB/M/AM RL', 'D/WB RC', 'D/WB/M LC', 'D/WB R', 'D/DM C', 'D RC', 'D/DM/M C', 'D/WB/M R', 'M LC', 'D/WB L', 'D/WB/M L', 'AM/S LC', 'DM/M RLC', 'M/AM/S RLC', 'D/WB/M/AM RLC', 'WB/AM L', 'AM LC', 'D LC', 'WB/DM/M/AM RC', 'AM/S R', 'WB/AM RL', 'D/DM LC', 'DM/M/AM LC', 'D RLC', 'D/WB/M/AM R', 'M/AM/S RL', 'WB/M/AM LC', 'D/WB LC', 'D/WB/M/AM L', 'D/WB RLC', 'D/WB/DM/M RC', 'D/WB/DM RC', 'M RC', 'S L', 'WB/M/AM L', 'D/WB/DM LC', 'DM/M LC', 'M/AM/S C', 'DM/M RC', 'S R', 'D/WB/M RL', 'D/WB/DM/M/AM RC', 'D/DM RC', 'WB/M/AM RLC', 'D/WB/AM LC', 'DM/M/AM RLC', 'M/AM/S LC', 'WB/M/AM R', 'WB/DM/M RLC', 'AM C', 'D/WB/M RLC', 'WB/M/AM RC', 'D/WB/AM R', 'M/AM/S L', 'D/WB/M RC', 'D/WB/M/AM RL', 'D RL', 'S RL', 'D R', 'D/M/AM/S RL', 'D/M/AM RLC', 'M RLC', 'WB/M RL', 'M/AM R', 'S LC', 'WB/M RC', 'WB/M R', 'M/AM L', 'AM R', 'DM', 'DM/M/AM RC', 'D/WB/AM RL', 'D/WB/DM R', 'S RLC', 'D L', 'D/WB/DM RLC', 'M/AM/S R', 'D/M/AM RL', 'WB/M L', 'M/S L', 'D/DM/M RLC', 'D/M/AM L', 'D/M RLC', 'DM/M/AM/S C', 'D/WB/M/AM LC', 'D/M C', 'WB/M/AM/S RLC', 'WB/M/AM/S RC', 'D/WB/DM/M LC', 'D/DM/M LC', 'D/DM RLC', 'WB/M RLC', 'D/M L', 'DM RC', 'M/AM/S RC', 'D/DM/M RL', 'D/DM R', 'WB/M LC', 'WB/M/AM/S RL', 'D/WB/AM RLC', 'D/M LC', 'D/M RL', 'D/WB/M/AM RC', 'M/S C', 'D/WB/DM/M RLC', 'WB R', 'D/WB/AM L', 'WB/DM/M LC', 'WB/DM/M RC', 'D/M RC', 'D/AM LC', 'D/M R', 'WB/AM/S RL', 'WB/AM RLC', 'D/WB/DM L', 'S RC', 'WB/M/AM/S R', 'D/AM RL', 'D/WB/DM RL', 'WB L', 'M RL', 'DM/AM C', 'D/S C']\n"
          ]
        }
      ]
    },
    {
      "cell_type": "code",
      "source": [
        "#Create loop to return a new column based on the Position\n",
        "def f(x):\n",
        "\n",
        "  if x.startswith('M') :\n",
        "    return 'Midfielder'\n",
        "  elif x.startswith('AM') :\n",
        "    return 'Midfielder'\n",
        "  elif x.startswith('S') :\n",
        "    return 'Forward'\n",
        "  elif x.startswith('GK') : \n",
        "    return 'Goalkeeper'\n",
        "  elif x.startswith('D') :\n",
        "    return 'Defender'\n",
        "  elif x.startswith('DM') :\n",
        "    return 'Midfielder'\n",
        "  elif x.startswith('WB') :\n",
        "    return 'Defender'\n",
        "\n",
        "Summary_fm_2023_df['Pos_2'] = Summary_fm_2023_df.Position.str[:2].apply(f)\n",
        "#Check if any Nulls present after formula \n",
        "print(Summary_fm_2023_df['Pos_2'].isnull().sum())\n",
        "print(Summary_fm_2023_df['Pos_2'])"
      ],
      "metadata": {
        "id": "JFOCN61UC6fY",
        "colab": {
          "base_uri": "https://localhost:8080/"
        },
        "outputId": "08325380-d648-4567-d99c-ace8f84a9041"
      },
      "execution_count": 117,
      "outputs": [
        {
          "output_type": "stream",
          "name": "stdout",
          "text": [
            "0\n",
            "Name\n",
            "Kevin De Bruyne       Midfielder\n",
            "Kylian Mbappé         Midfielder\n",
            "Robert Lewandowski       Forward\n",
            "Erling Haaland           Forward\n",
            "Mohamed Salah         Midfielder\n",
            "                         ...    \n",
            "Joe Ashton              Defender\n",
            "River Ries               Forward\n",
            "Halilcan Doğan          Defender\n",
            "Adijat Sefer             Forward\n",
            "Linus Urban              Forward\n",
            "Name: Pos_2, Length: 8345, dtype: object\n"
          ]
        }
      ]
    },
    {
      "cell_type": "markdown",
      "source": [
        "#Visualisation\n",
        "\n",
        "* Generate at least two charts using Matplotlib or seaborn"
      ],
      "metadata": {
        "id": "jmMxHHUEENex"
      }
    },
    {
      "cell_type": "markdown",
      "source": [
        "##Seaborn Scatter Plot \n",
        "\n",
        "Looking at Height vs Heading.\n",
        "\n",
        "Position included in Scatter Plot.\n",
        "\n"
      ],
      "metadata": {
        "id": "R5udt-As5lPM"
      }
    },
    {
      "cell_type": "code",
      "source": [
        "#Import seaborn\n",
        "import seaborn as sns\n",
        "\n",
        "#Plot Height vs Heading\n",
        "markers = {\"Goalkeeper\": \"s\", \"Defender\" : \"v\", \"Midfielder\" : \"X\", \"Forward\" : \"o\"}\n",
        "sns.scatterplot(x='Heading', y='Height', data=Summary_fm_2023_df, \n",
        "                style=\"Pos_2\", hue = \"Pos_2\", markers=markers)"
      ],
      "metadata": {
        "id": "h9mBCeKNEbw6",
        "colab": {
          "base_uri": "https://localhost:8080/",
          "height": 296
        },
        "outputId": "e75b8298-e00b-4e5a-d516-1eaf7284a098"
      },
      "execution_count": 123,
      "outputs": [
        {
          "output_type": "execute_result",
          "data": {
            "text/plain": [
              "<Axes: xlabel='Heading', ylabel='Height'>"
            ]
          },
          "metadata": {},
          "execution_count": 123
        },
        {
          "output_type": "display_data",
          "data": {
            "text/plain": [
              "<Figure size 432x288 with 1 Axes>"
            ],
            "image/png": "[encoded data removed]"
          },
          "metadata": {
            "needs_background": "light"
          }
        }
      ]
    },
    {
      "cell_type": "markdown",
      "source": [
        "##Bar chart\n",
        "\n",
        "Looking at Position by Salary"
      ],
      "metadata": {
        "id": "2XJAW6hGNy5Y"
      }
    },
    {
      "cell_type": "code",
      "source": [
        "import matplotlib.pyplot as plt\n",
        "\n",
        "Position = list(Summary_fm_2023_df['Pos_2'].drop_duplicates().reset_index(drop=True))\n",
        "Salary = list(round(Summary_fm_2023_df.groupby('Pos_2').mean()['Salary']))\n",
        "\n",
        "plt.bar(Position, Salary, color= 'blue')\n",
        "\n",
        "plt.xlabel('Position')\n",
        "plt.ylabel('Salary')\n",
        "plt.title('The Mean Salary by Position')\n",
        "plt.show()\n",
        "\n",
        "print(round(Summary_fm_2023_df.groupby('Pos_2').mean()['Salary']))"
      ],
      "metadata": {
        "colab": {
          "base_uri": "https://localhost:8080/",
          "height": 399
        },
        "id": "JLRdwd4jQDpS",
        "outputId": "bcdc095a-35a2-4cca-ed7c-890d9aa60dcf"
      },
      "execution_count": 139,
      "outputs": [
        {
          "output_type": "display_data",
          "data": {
            "text/plain": [
              "<Figure size 432x288 with 1 Axes>"
            ],
            "image/png": "[encoded data removed]"
          },
          "metadata": {
            "needs_background": "light"
          }
        },
        {
          "output_type": "stream",
          "name": "stdout",
          "text": [
            "Pos_2\n",
            "Defender      21815.0\n",
            "Forward       21190.0\n",
            "Goalkeeper    18535.0\n",
            "Midfielder    20200.0\n",
            "Name: Salary, dtype: float64\n"
          ]
        }
      ]
    },
    {
      "cell_type": "markdown",
      "source": [
        "##Histogram\n",
        "\n",
        "Showing ca (current ability) in Summary_fm_2023_df"
      ],
      "metadata": {
        "id": "AWCr9F_SW8Kq"
      }
    },
    {
      "cell_type": "code",
      "source": [
        "sns.histplot(Summary_fm_2023_df['ca'], bins=30)"
      ],
      "metadata": {
        "colab": {
          "base_uri": "https://localhost:8080/",
          "height": 296
        },
        "id": "LnXl-vKiQk-f",
        "outputId": "5111c754-546a-453a-f607-06d0df05a649"
      },
      "execution_count": 120,
      "outputs": [
        {
          "output_type": "execute_result",
          "data": {
            "text/plain": [
              "<Axes: xlabel='ca', ylabel='Count'>"
            ]
          },
          "metadata": {},
          "execution_count": 120
        },
        {
          "output_type": "display_data",
          "data": {
            "text/plain": [
              "<Figure size 432x288 with 1 Axes>"
            ],
            "image/png": "[encoded data removed]"
          },
          "metadata": {
            "needs_background": "light"
          }
        }
      ]
    },
    {
      "cell_type": "markdown",
      "source": [
        "#Insights\n",
        "\n",
        "* Derive five valuable insights from the analysis\n",
        "* Justify your insights with reference to the charts or analysis"
      ],
      "metadata": {
        "id": "ORAXpwCyEfGC"
      }
    },
    {
      "cell_type": "markdown",
      "source": [
        "##Valuable insights from the analysis\n",
        "\n",
        "1. Only 9.8% of players in Football Manager 2023 earn greater than or equal to 50,000 (814 out of a total 8345) \n",
        "2. Paris Saint-Germain pays the most salary to the players on average\n",
        "3. The taller a player is the higher the heading rating.\n",
        "4. The average ca (current Ability) sits around 120-140. With more players ability being less than 120 than greater than 140.\n",
        "5. Goalkeeper is the position with the lowest mean Salary with Midfielder being the highest."
      ],
      "metadata": {
        "id": "iDHu4wSXFN9p"
      }
    },
    {
      "cell_type": "markdown",
      "source": [
        "#Machine Learning\n",
        "\n",
        "* Describe what kind of prediction you could perform in future using machine learning and/or deep learning.\n",
        "* Would you use classification or regression methods"
      ],
      "metadata": {
        "id": "6ElL4y5xE0_Z"
      }
    },
    {
      "cell_type": "markdown",
      "source": [
        "Regression method as number based"
      ],
      "metadata": {
        "id": "orKbIriEfb7C"
      }
    },
    {
      "cell_type": "markdown",
      "source": [
        "##Prediction model"
      ],
      "metadata": {
        "id": "gxodfz4pGGTZ"
      }
    },
    {
      "cell_type": "code",
      "source": [],
      "metadata": {
        "id": "jpxrVhlyFMGV"
      },
      "execution_count": 121,
      "outputs": []
    }
  ]
}